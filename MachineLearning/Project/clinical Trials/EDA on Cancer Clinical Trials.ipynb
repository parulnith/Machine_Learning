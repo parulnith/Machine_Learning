{
 "cells": [
  {
   "cell_type": "markdown",
   "metadata": {},
   "source": [
    "# Analysis of 40,000+ Oncology Studies from [ClinicalTrials.gov](www.clinicaltrials.gov)\n",
    "\n",
    "On August 18, 2016 I downloaded data on 43,692 clinical trials from the government registry [ClinicalTrials.gov](www.clinicaltrials.gov). I limited my search to all oncology-related trials in the database (there are over 200,000 trials in total). To cast as wide a net as possible, I included the following search terms in the \"Conditions\" field: cancer OR oncology OR neoplasm OR carcinoma OR leukemia OR lymphoma. After testing several combinations of terms, this set generated the largest number of search results.\n",
    "\n",
    "In this notebook I do some initial EDA on the data, to get a feel for what needs to be cleaned. In future notebooks, I'll be generating visualizations to answer specific questions of the data. Here is where I first identify what questions I'm going to ask."
   ]
  },
  {
   "cell_type": "markdown",
   "metadata": {
    "collapsed": true
   },
   "source": [
    "## Read in data "
   ]
  },
  {
   "cell_type": "code",
   "execution_count": 69,
   "metadata": {
    "collapsed": true
   },
   "outputs": [],
   "source": [
    "import pandas as pd\n",
    "import numpy as np\n",
    "from matplotlib import pyplot as plt\n",
    "% matplotlib inline\n",
    "import seaborn as sns"
   ]
  },
  {
   "cell_type": "code",
   "execution_count": 70,
   "metadata": {
    "collapsed": false
   },
   "outputs": [],
   "source": [
    "# Read in data\n",
    "trials = pd.read_csv('trials.csv')"
   ]
  },
  {
   "cell_type": "markdown",
   "metadata": {},
   "source": [
    "## 1View head, shape, column headers, missing values, and data types"
   ]
  },
  {
   "cell_type": "code",
   "execution_count": 71,
   "metadata": {
    "collapsed": false
   },
   "outputs": [
    {
     "data": {
      "text/html": [
       "<div>\n",
       "<style scoped>\n",
       "    .dataframe tbody tr th:only-of-type {\n",
       "        vertical-align: middle;\n",
       "    }\n",
       "\n",
       "    .dataframe tbody tr th {\n",
       "        vertical-align: top;\n",
       "    }\n",
       "\n",
       "    .dataframe thead th {\n",
       "        text-align: right;\n",
       "    }\n",
       "</style>\n",
       "<table border=\"1\" class=\"dataframe\">\n",
       "  <thead>\n",
       "    <tr style=\"text-align: right;\">\n",
       "      <th></th>\n",
       "      <th>Rank</th>\n",
       "      <th>NCT Number</th>\n",
       "      <th>Title</th>\n",
       "      <th>Recruitment</th>\n",
       "      <th>Study Results</th>\n",
       "      <th>Conditions</th>\n",
       "      <th>Interventions</th>\n",
       "      <th>Sponsor/Collaborators</th>\n",
       "      <th>Gender</th>\n",
       "      <th>Age</th>\n",
       "      <th>...</th>\n",
       "      <th>First Received</th>\n",
       "      <th>Start Date</th>\n",
       "      <th>Completion Date</th>\n",
       "      <th>Last Updated</th>\n",
       "      <th>Last Verified</th>\n",
       "      <th>Results First Received</th>\n",
       "      <th>Acronym</th>\n",
       "      <th>Primary Completion Date</th>\n",
       "      <th>Outcome Measures</th>\n",
       "      <th>URL</th>\n",
       "    </tr>\n",
       "  </thead>\n",
       "  <tbody>\n",
       "    <tr>\n",
       "      <th>0</th>\n",
       "      <td>1</td>\n",
       "      <td>NCT01638533</td>\n",
       "      <td>Romidepsin in Treating Patients With Lymphoma,...</td>\n",
       "      <td>Recruiting</td>\n",
       "      <td>No Results Available</td>\n",
       "      <td>Adult Mixed Glioma|Adult Pineal Gland Astrocyt...</td>\n",
       "      <td>Other: Pharmacological Study|Drug: Romidepsin</td>\n",
       "      <td>National Cancer Institute (NCI)|Celgene Corpor...</td>\n",
       "      <td>Both</td>\n",
       "      <td>18 Years and older   (Adult, Senior)</td>\n",
       "      <td>...</td>\n",
       "      <td>9-Jul-12</td>\n",
       "      <td>Jun-12</td>\n",
       "      <td>NaN</td>\n",
       "      <td>19-Jul-16</td>\n",
       "      <td>Apr-16</td>\n",
       "      <td>No Study Results Posted</td>\n",
       "      <td>NaN</td>\n",
       "      <td>Sep-17</td>\n",
       "      <td>Dose-limiting toxicity of romidepsin in groups...</td>\n",
       "      <td>https://ClinicalTrials.gov/show/NCT01638533</td>\n",
       "    </tr>\n",
       "    <tr>\n",
       "      <th>1</th>\n",
       "      <td>2</td>\n",
       "      <td>NCT01460134</td>\n",
       "      <td>A Study of CDX-1127 (Varlilumab) in Patients W...</td>\n",
       "      <td>Active, not recruiting</td>\n",
       "      <td>No Results Available</td>\n",
       "      <td>CD27 Expressing B-cell Malignancies, (for Exam...</td>\n",
       "      <td>Drug: CDX-1127|Drug: CDX-1127|Drug: CDX-1127</td>\n",
       "      <td>Celldex Therapeutics</td>\n",
       "      <td>Both</td>\n",
       "      <td>18 Years and older   (Adult, Senior)</td>\n",
       "      <td>...</td>\n",
       "      <td>12-Oct-11</td>\n",
       "      <td>Oct-11</td>\n",
       "      <td>Dec-16</td>\n",
       "      <td>5-Apr-16</td>\n",
       "      <td>Apr-16</td>\n",
       "      <td>No Study Results Posted</td>\n",
       "      <td>NaN</td>\n",
       "      <td>Dec-15</td>\n",
       "      <td>Characterize the adverse events associated wit...</td>\n",
       "      <td>https://ClinicalTrials.gov/show/NCT01460134</td>\n",
       "    </tr>\n",
       "  </tbody>\n",
       "</table>\n",
       "<p>2 rows × 26 columns</p>\n",
       "</div>"
      ],
      "text/plain": [
       "   Rank   NCT Number                                              Title  \\\n",
       "0     1  NCT01638533  Romidepsin in Treating Patients With Lymphoma,...   \n",
       "1     2  NCT01460134  A Study of CDX-1127 (Varlilumab) in Patients W...   \n",
       "\n",
       "              Recruitment         Study Results  \\\n",
       "0              Recruiting  No Results Available   \n",
       "1  Active, not recruiting  No Results Available   \n",
       "\n",
       "                                          Conditions  \\\n",
       "0  Adult Mixed Glioma|Adult Pineal Gland Astrocyt...   \n",
       "1  CD27 Expressing B-cell Malignancies, (for Exam...   \n",
       "\n",
       "                                   Interventions  \\\n",
       "0  Other: Pharmacological Study|Drug: Romidepsin   \n",
       "1   Drug: CDX-1127|Drug: CDX-1127|Drug: CDX-1127   \n",
       "\n",
       "                               Sponsor/Collaborators Gender  \\\n",
       "0  National Cancer Institute (NCI)|Celgene Corpor...   Both   \n",
       "1                               Celldex Therapeutics   Both   \n",
       "\n",
       "                                    Age  \\\n",
       "0  18 Years and older   (Adult, Senior)   \n",
       "1  18 Years and older   (Adult, Senior)   \n",
       "\n",
       "                      ...                      First Received  Start Date  \\\n",
       "0                     ...                            9-Jul-12      Jun-12   \n",
       "1                     ...                           12-Oct-11      Oct-11   \n",
       "\n",
       "  Completion Date Last Updated Last Verified   Results First Received Acronym  \\\n",
       "0             NaN    19-Jul-16        Apr-16  No Study Results Posted     NaN   \n",
       "1          Dec-16     5-Apr-16        Apr-16  No Study Results Posted     NaN   \n",
       "\n",
       "  Primary Completion Date                                   Outcome Measures  \\\n",
       "0                  Sep-17  Dose-limiting toxicity of romidepsin in groups...   \n",
       "1                  Dec-15  Characterize the adverse events associated wit...   \n",
       "\n",
       "                                           URL  \n",
       "0  https://ClinicalTrials.gov/show/NCT01638533  \n",
       "1  https://ClinicalTrials.gov/show/NCT01460134  \n",
       "\n",
       "[2 rows x 26 columns]"
      ]
     },
     "execution_count": 71,
     "metadata": {},
     "output_type": "execute_result"
    }
   ],
   "source": [
    "trials.head(2)"
   ]
  },
  {
   "cell_type": "code",
   "execution_count": 72,
   "metadata": {
    "collapsed": false
   },
   "outputs": [
    {
     "data": {
      "text/plain": [
       "(43962, 26)"
      ]
     },
     "execution_count": 72,
     "metadata": {},
     "output_type": "execute_result"
    }
   ],
   "source": [
    "trials.shape"
   ]
  },
  {
   "cell_type": "code",
   "execution_count": 73,
   "metadata": {
    "collapsed": false
   },
   "outputs": [
    {
     "data": {
      "text/plain": [
       "array(['Rank', 'NCT Number', 'Title', 'Recruitment', 'Study Results',\n",
       "       'Conditions', 'Interventions', 'Sponsor/Collaborators', 'Gender',\n",
       "       'Age', 'Phases', 'Enrollment', 'Funded Bys', 'Study Types',\n",
       "       'Study Designs', 'Other IDs', 'First Received', 'Start Date',\n",
       "       'Completion Date', 'Last Updated', 'Last Verified',\n",
       "       'Results First Received', 'Acronym', 'Primary Completion Date',\n",
       "       'Outcome Measures', 'URL'], dtype=object)"
      ]
     },
     "execution_count": 73,
     "metadata": {},
     "output_type": "execute_result"
    }
   ],
   "source": [
    "# View column headers\n",
    "trials.columns.values"
   ]
  },
  {
   "cell_type": "code",
   "execution_count": 74,
   "metadata": {
    "collapsed": false
   },
   "outputs": [
    {
     "data": {
      "text/html": [
       "<div>\n",
       "<style scoped>\n",
       "    .dataframe tbody tr th:only-of-type {\n",
       "        vertical-align: middle;\n",
       "    }\n",
       "\n",
       "    .dataframe tbody tr th {\n",
       "        vertical-align: top;\n",
       "    }\n",
       "\n",
       "    .dataframe thead th {\n",
       "        text-align: right;\n",
       "    }\n",
       "</style>\n",
       "<table border=\"1\" class=\"dataframe\">\n",
       "  <thead>\n",
       "    <tr style=\"text-align: right;\">\n",
       "      <th></th>\n",
       "      <th>0</th>\n",
       "    </tr>\n",
       "  </thead>\n",
       "  <tbody>\n",
       "    <tr>\n",
       "      <th>Rank</th>\n",
       "      <td>0</td>\n",
       "    </tr>\n",
       "    <tr>\n",
       "      <th>NCT Number</th>\n",
       "      <td>0</td>\n",
       "    </tr>\n",
       "    <tr>\n",
       "      <th>Title</th>\n",
       "      <td>0</td>\n",
       "    </tr>\n",
       "    <tr>\n",
       "      <th>Recruitment</th>\n",
       "      <td>0</td>\n",
       "    </tr>\n",
       "    <tr>\n",
       "      <th>Study Results</th>\n",
       "      <td>0</td>\n",
       "    </tr>\n",
       "    <tr>\n",
       "      <th>Conditions</th>\n",
       "      <td>0</td>\n",
       "    </tr>\n",
       "    <tr>\n",
       "      <th>Interventions</th>\n",
       "      <td>4253</td>\n",
       "    </tr>\n",
       "    <tr>\n",
       "      <th>Sponsor/Collaborators</th>\n",
       "      <td>0</td>\n",
       "    </tr>\n",
       "    <tr>\n",
       "      <th>Gender</th>\n",
       "      <td>43</td>\n",
       "    </tr>\n",
       "    <tr>\n",
       "      <th>Age</th>\n",
       "      <td>0</td>\n",
       "    </tr>\n",
       "    <tr>\n",
       "      <th>Phases</th>\n",
       "      <td>15502</td>\n",
       "    </tr>\n",
       "    <tr>\n",
       "      <th>Enrollment</th>\n",
       "      <td>419</td>\n",
       "    </tr>\n",
       "    <tr>\n",
       "      <th>Funded Bys</th>\n",
       "      <td>0</td>\n",
       "    </tr>\n",
       "    <tr>\n",
       "      <th>Study Types</th>\n",
       "      <td>0</td>\n",
       "    </tr>\n",
       "    <tr>\n",
       "      <th>Study Designs</th>\n",
       "      <td>518</td>\n",
       "    </tr>\n",
       "    <tr>\n",
       "      <th>Other IDs</th>\n",
       "      <td>8</td>\n",
       "    </tr>\n",
       "    <tr>\n",
       "      <th>First Received</th>\n",
       "      <td>0</td>\n",
       "    </tr>\n",
       "    <tr>\n",
       "      <th>Start Date</th>\n",
       "      <td>360</td>\n",
       "    </tr>\n",
       "    <tr>\n",
       "      <th>Completion Date</th>\n",
       "      <td>7097</td>\n",
       "    </tr>\n",
       "    <tr>\n",
       "      <th>Last Updated</th>\n",
       "      <td>0</td>\n",
       "    </tr>\n",
       "    <tr>\n",
       "      <th>Last Verified</th>\n",
       "      <td>0</td>\n",
       "    </tr>\n",
       "    <tr>\n",
       "      <th>Results First Received</th>\n",
       "      <td>0</td>\n",
       "    </tr>\n",
       "    <tr>\n",
       "      <th>Acronym</th>\n",
       "      <td>33579</td>\n",
       "    </tr>\n",
       "    <tr>\n",
       "      <th>Primary Completion Date</th>\n",
       "      <td>1378</td>\n",
       "    </tr>\n",
       "    <tr>\n",
       "      <th>Outcome Measures</th>\n",
       "      <td>1101</td>\n",
       "    </tr>\n",
       "    <tr>\n",
       "      <th>URL</th>\n",
       "      <td>0</td>\n",
       "    </tr>\n",
       "  </tbody>\n",
       "</table>\n",
       "</div>"
      ],
      "text/plain": [
       "                             0\n",
       "Rank                         0\n",
       "NCT Number                   0\n",
       "Title                        0\n",
       "Recruitment                  0\n",
       "Study Results                0\n",
       "Conditions                   0\n",
       "Interventions             4253\n",
       "Sponsor/Collaborators        0\n",
       "Gender                      43\n",
       "Age                          0\n",
       "Phases                   15502\n",
       "Enrollment                 419\n",
       "Funded Bys                   0\n",
       "Study Types                  0\n",
       "Study Designs              518\n",
       "Other IDs                    8\n",
       "First Received               0\n",
       "Start Date                 360\n",
       "Completion Date           7097\n",
       "Last Updated                 0\n",
       "Last Verified                0\n",
       "Results First Received       0\n",
       "Acronym                  33579\n",
       "Primary Completion Date   1378\n",
       "Outcome Measures          1101\n",
       "URL                          0"
      ]
     },
     "execution_count": 74,
     "metadata": {},
     "output_type": "execute_result"
    }
   ],
   "source": [
    "# View number of null values by column\n",
    "pd.DataFrame(trials.isnull().sum())"
   ]
  },
  {
   "cell_type": "code",
   "execution_count": 75,
   "metadata": {
    "collapsed": false
   },
   "outputs": [
    {
     "data": {
      "text/html": [
       "<div>\n",
       "<style scoped>\n",
       "    .dataframe tbody tr th:only-of-type {\n",
       "        vertical-align: middle;\n",
       "    }\n",
       "\n",
       "    .dataframe tbody tr th {\n",
       "        vertical-align: top;\n",
       "    }\n",
       "\n",
       "    .dataframe thead th {\n",
       "        text-align: right;\n",
       "    }\n",
       "</style>\n",
       "<table border=\"1\" class=\"dataframe\">\n",
       "  <thead>\n",
       "    <tr style=\"text-align: right;\">\n",
       "      <th></th>\n",
       "      <th>0</th>\n",
       "    </tr>\n",
       "  </thead>\n",
       "  <tbody>\n",
       "    <tr>\n",
       "      <th>Rank</th>\n",
       "      <td>int64</td>\n",
       "    </tr>\n",
       "    <tr>\n",
       "      <th>NCT Number</th>\n",
       "      <td>object</td>\n",
       "    </tr>\n",
       "    <tr>\n",
       "      <th>Title</th>\n",
       "      <td>object</td>\n",
       "    </tr>\n",
       "    <tr>\n",
       "      <th>Recruitment</th>\n",
       "      <td>object</td>\n",
       "    </tr>\n",
       "    <tr>\n",
       "      <th>Study Results</th>\n",
       "      <td>object</td>\n",
       "    </tr>\n",
       "    <tr>\n",
       "      <th>Conditions</th>\n",
       "      <td>object</td>\n",
       "    </tr>\n",
       "    <tr>\n",
       "      <th>Interventions</th>\n",
       "      <td>object</td>\n",
       "    </tr>\n",
       "    <tr>\n",
       "      <th>Sponsor/Collaborators</th>\n",
       "      <td>object</td>\n",
       "    </tr>\n",
       "    <tr>\n",
       "      <th>Gender</th>\n",
       "      <td>object</td>\n",
       "    </tr>\n",
       "    <tr>\n",
       "      <th>Age</th>\n",
       "      <td>object</td>\n",
       "    </tr>\n",
       "    <tr>\n",
       "      <th>Phases</th>\n",
       "      <td>object</td>\n",
       "    </tr>\n",
       "    <tr>\n",
       "      <th>Enrollment</th>\n",
       "      <td>float64</td>\n",
       "    </tr>\n",
       "    <tr>\n",
       "      <th>Funded Bys</th>\n",
       "      <td>object</td>\n",
       "    </tr>\n",
       "    <tr>\n",
       "      <th>Study Types</th>\n",
       "      <td>object</td>\n",
       "    </tr>\n",
       "    <tr>\n",
       "      <th>Study Designs</th>\n",
       "      <td>object</td>\n",
       "    </tr>\n",
       "    <tr>\n",
       "      <th>Other IDs</th>\n",
       "      <td>object</td>\n",
       "    </tr>\n",
       "    <tr>\n",
       "      <th>First Received</th>\n",
       "      <td>object</td>\n",
       "    </tr>\n",
       "    <tr>\n",
       "      <th>Start Date</th>\n",
       "      <td>object</td>\n",
       "    </tr>\n",
       "    <tr>\n",
       "      <th>Completion Date</th>\n",
       "      <td>object</td>\n",
       "    </tr>\n",
       "    <tr>\n",
       "      <th>Last Updated</th>\n",
       "      <td>object</td>\n",
       "    </tr>\n",
       "    <tr>\n",
       "      <th>Last Verified</th>\n",
       "      <td>object</td>\n",
       "    </tr>\n",
       "    <tr>\n",
       "      <th>Results First Received</th>\n",
       "      <td>object</td>\n",
       "    </tr>\n",
       "    <tr>\n",
       "      <th>Acronym</th>\n",
       "      <td>object</td>\n",
       "    </tr>\n",
       "    <tr>\n",
       "      <th>Primary Completion Date</th>\n",
       "      <td>object</td>\n",
       "    </tr>\n",
       "    <tr>\n",
       "      <th>Outcome Measures</th>\n",
       "      <td>object</td>\n",
       "    </tr>\n",
       "    <tr>\n",
       "      <th>URL</th>\n",
       "      <td>object</td>\n",
       "    </tr>\n",
       "  </tbody>\n",
       "</table>\n",
       "</div>"
      ],
      "text/plain": [
       "                               0\n",
       "Rank                       int64\n",
       "NCT Number                object\n",
       "Title                     object\n",
       "Recruitment               object\n",
       "Study Results             object\n",
       "Conditions                object\n",
       "Interventions             object\n",
       "Sponsor/Collaborators     object\n",
       "Gender                    object\n",
       "Age                       object\n",
       "Phases                    object\n",
       "Enrollment               float64\n",
       "Funded Bys                object\n",
       "Study Types               object\n",
       "Study Designs             object\n",
       "Other IDs                 object\n",
       "First Received            object\n",
       "Start Date                object\n",
       "Completion Date           object\n",
       "Last Updated              object\n",
       "Last Verified             object\n",
       "Results First Received    object\n",
       "Acronym                   object\n",
       "Primary Completion Date   object\n",
       "Outcome Measures          object\n",
       "URL                       object"
      ]
     },
     "execution_count": 75,
     "metadata": {},
     "output_type": "execute_result"
    }
   ],
   "source": [
    "# view data types\n",
    "pd.DataFrame(trials.dtypes)"
   ]
  },
  {
   "cell_type": "markdown",
   "metadata": {},
   "source": [
    "## Visualize counts of different fields"
   ]
  },
  {
   "cell_type": "code",
   "execution_count": 76,
   "metadata": {
    "collapsed": false
   },
   "outputs": [
    {
     "name": "stderr",
     "output_type": "stream",
     "text": [
      "/Applications/anaconda/lib/python3.6/site-packages/seaborn/categorical.py:1460: FutureWarning: remove_na is deprecated and is a private function. Do not use.\n",
      "  stat_data = remove_na(group_data)\n"
     ]
    },
    {
     "data": {
      "text/plain": [
       "<matplotlib.text.Text at 0x11bbe45c0>"
      ]
     },
     "execution_count": 76,
     "metadata": {},
     "output_type": "execute_result"
    },
    {
     "data": {
      "image/png": "[encoded data removed]",
      "text/plain": [
       "<matplotlib.figure.Figure at 0x10ec76fd0>"
      ]
     },
     "metadata": {},
     "output_type": "display_data"
    }
   ],
   "source": [
    "ax = sns.countplot(y=\"Recruitment\", data=trials, orient='h')\n",
    "ax.set_title('Recruitment Status')"
   ]
  },
  {
   "cell_type": "code",
   "execution_count": 77,
   "metadata": {
    "collapsed": false
   },
   "outputs": [
    {
     "name": "stderr",
     "output_type": "stream",
     "text": [
      "/Applications/anaconda/lib/python3.6/site-packages/seaborn/categorical.py:1460: FutureWarning: remove_na is deprecated and is a private function. Do not use.\n",
      "  stat_data = remove_na(group_data)\n"
     ]
    },
    {
     "data": {
      "text/plain": [
       "<matplotlib.text.Text at 0x11bb498d0>"
      ]
     },
     "execution_count": 77,
     "metadata": {},
     "output_type": "execute_result"
    },
    {
     "data": {
      "image/png": "[encoded data removed]",
      "text/plain": [
       "<matplotlib.figure.Figure at 0x11cae8390>"
      ]
     },
     "metadata": {},
     "output_type": "display_data"
    }
   ],
   "source": [
    "ax = sns.countplot(x='Study Types', data=trials)\n",
    "ax.set_title('Study Types: Interventional vs. Observational')"
   ]
  },
  {
   "cell_type": "code",
   "execution_count": 78,
   "metadata": {
    "collapsed": false
   },
   "outputs": [
    {
     "data": {
      "text/plain": [
       "<matplotlib.axes._subplots.AxesSubplot at 0x11ba8de48>"
      ]
     },
     "execution_count": 78,
     "metadata": {},
     "output_type": "execute_result"
    },
    {
     "data": {
      "image/png": "[encoded data removed]",
      "text/plain": [
       "<matplotlib.figure.Figure at 0x125c415c0>"
      ]
     },
     "metadata": {},
     "output_type": "display_data"
    }
   ],
   "source": [
    "# get top six categories of trial funders\n",
    "top_funded_bys = trials['Funded Bys'].value_counts().sort_values(ascending=True)[-6:]\n",
    "\n",
    "# plot it with pandas\n",
    "colors = ['royalblue', 'violet', 'indianred', 'goldenrod', 'c', 'darksalmon']\n",
    "top_funded_bys.plot(kind='barh', color=colors, title='Trial Funders')"
   ]
  },
  {
   "cell_type": "markdown",
   "metadata": {},
   "source": [
    "# 2. What cancers are most commonly studied?\n",
    "---"
   ]
  },
  {
   "cell_type": "markdown",
   "metadata": {},
   "source": [
    "##### a. For example, how many trials for cervical cancer are there?"
   ]
  },
  {
   "cell_type": "code",
   "execution_count": 79,
   "metadata": {
    "collapsed": false
   },
   "outputs": [
    {
     "data": {
      "text/plain": [
       "False    43264\n",
       "True       698\n",
       "Name: Conditions, dtype: int64"
      ]
     },
     "execution_count": 79,
     "metadata": {},
     "output_type": "execute_result"
    }
   ],
   "source": [
    "# Search the \"Conditions\" column for cells that contain \"cerv\" for \"cervical\"\n",
    "trials['Conditions'].str.contains('cerv', case=False).value_counts()"
   ]
  },
  {
   "cell_type": "markdown",
   "metadata": {},
   "source": [
    "##### b. Another example: kidney cancer is also called renal cell carcinoma. How many trials are there for either of these?"
   ]
  },
  {
   "cell_type": "code",
   "execution_count": 80,
   "metadata": {
    "collapsed": false
   },
   "outputs": [
    {
     "data": {
      "text/plain": [
       "1135"
      ]
     },
     "execution_count": 80,
     "metadata": {},
     "output_type": "execute_result"
    }
   ],
   "source": [
    "# Slice dataframe to get value counts for kidney cancer/renal cell carcinoma\n",
    "((trials['Conditions'].str.contains('renal', case=False)) | \n",
    "          (trials['Conditions'].str.contains('kidney', case=False))).value_counts()[True]"
   ]
  },
  {
   "cell_type": "markdown",
   "metadata": {},
   "source": [
    "##### c. Add a dummy column for each of the major cancer types"
   ]
  },
  {
   "cell_type": "code",
   "execution_count": 81,
   "metadata": {
    "collapsed": true
   },
   "outputs": [],
   "source": [
    "# List of cancer sites\n",
    "cancer_sites = [('breast', 'Breast'), ('lung', 'Lung'), ('colo', 'Colorectal'), ('prostate', 'Prostate'),\n",
    "                ('pancrea', 'Pancreatic'), ('thyroid', 'Thyroid'), ('ovar', 'Ovarian'), ('melanoma', 'Melanoma'),\n",
    "               ('esoph', 'Esophageal'), ('myeloma', 'Multiple Myeloma'), ('lymphoma', 'Lymphomas'),\n",
    "                ('leukemia', 'Leukemias'), ('uter', 'Uterine'), ('bladder', 'Bladder'), ('cerv', 'Cervical'),\n",
    "               ('head and neck', 'Head and Neck'), ('liver', 'Liver'), ('testi', 'Testicular')]"
   ]
  },
  {
   "cell_type": "code",
   "execution_count": 82,
   "metadata": {
    "collapsed": true
   },
   "outputs": [],
   "source": [
    "# Add columns for cancer sites\n",
    "for search_term, site in cancer_sites:\n",
    "    trials[site] = trials.Conditions.str.contains(search_term, case=False)\n",
    "    trials[site] = trials[site].map({True:1, False:0})"
   ]
  },
  {
   "cell_type": "code",
   "execution_count": 83,
   "metadata": {
    "collapsed": false
   },
   "outputs": [
    {
     "name": "stdout",
     "output_type": "stream",
     "text": [
      "<class 'pandas.core.frame.DataFrame'>\n",
      "RangeIndex: 43962 entries, 0 to 43961\n",
      "Data columns (total 44 columns):\n",
      "Rank                       43962 non-null int64\n",
      "NCT Number                 43962 non-null object\n",
      "Title                      43962 non-null object\n",
      "Recruitment                43962 non-null object\n",
      "Study Results              43962 non-null object\n",
      "Conditions                 43962 non-null object\n",
      "Interventions              39709 non-null object\n",
      "Sponsor/Collaborators      43962 non-null object\n",
      "Gender                     43919 non-null object\n",
      "Age                        43962 non-null object\n",
      "Phases                     28460 non-null object\n",
      "Enrollment                 43543 non-null float64\n",
      "Funded Bys                 43962 non-null object\n",
      "Study Types                43962 non-null object\n",
      "Study Designs              43444 non-null object\n",
      "Other IDs                  43954 non-null object\n",
      "First Received             43962 non-null object\n",
      "Start Date                 43602 non-null object\n",
      "Completion Date            36865 non-null object\n",
      "Last Updated               43962 non-null object\n",
      "Last Verified              43962 non-null object\n",
      "Results First Received     43962 non-null object\n",
      "Acronym                    10383 non-null object\n",
      "Primary Completion Date    42584 non-null object\n",
      "Outcome Measures           42861 non-null object\n",
      "URL                        43962 non-null object\n",
      "Breast                     43962 non-null int64\n",
      "Lung                       43962 non-null int64\n",
      "Colorectal                 43962 non-null int64\n",
      "Prostate                   43962 non-null int64\n",
      "Pancreatic                 43962 non-null int64\n",
      "Thyroid                    43962 non-null int64\n",
      "Ovarian                    43962 non-null int64\n",
      "Melanoma                   43962 non-null int64\n",
      "Esophageal                 43962 non-null int64\n",
      "Multiple Myeloma           43962 non-null int64\n",
      "Lymphomas                  43962 non-null int64\n",
      "Leukemias                  43962 non-null int64\n",
      "Uterine                    43962 non-null int64\n",
      "Bladder                    43962 non-null int64\n",
      "Cervical                   43962 non-null int64\n",
      "Head and Neck              43962 non-null int64\n",
      "Liver                      43962 non-null int64\n",
      "Testicular                 43962 non-null int64\n",
      "dtypes: float64(1), int64(19), object(24)\n",
      "memory usage: 14.8+ MB\n"
     ]
    }
   ],
   "source": [
    "trials.info()"
   ]
  },
  {
   "cell_type": "code",
   "execution_count": 84,
   "metadata": {
    "collapsed": true
   },
   "outputs": [],
   "source": [
    "# List of cancer sites with multiple names\n",
    "cancer_sites_mult_names = [(('brain', 'glio'), 'Brain'), (('kidney', 'renal'), 'Kidney'), (('stomach', 'gastric'), 'Gastric'),\n",
    "                           (('bone', 'osteos'), 'Bone'), (('soft tissue', 'gastrointestinal stromal'), 'Soft-tissue')]"
   ]
  },
  {
   "cell_type": "code",
   "execution_count": 85,
   "metadata": {
    "collapsed": true
   },
   "outputs": [],
   "source": [
    "# Add additional columns for cancer sites with multiple search terms\n",
    "for search_terms, site in cancer_sites_mult_names:\n",
    "    trials[site] = ((trials.Conditions.str.contains(search_terms[0], case=False)) | \n",
    "                     (trials.Conditions.str.contains(search_terms[1], case=False)))\n",
    "    trials[site] = trials[site].map({True:1, False:0})"
   ]
  },
  {
   "cell_type": "markdown",
   "metadata": {},
   "source": [
    "##### e. Graph the data with matplotlib"
   ]
  },
  {
   "cell_type": "code",
   "execution_count": 86,
   "metadata": {
    "collapsed": false
   },
   "outputs": [
    {
     "data": {
      "image/png": "[encoded data removed]",
      "text/plain": [
       "<matplotlib.figure.Figure at 0x11ca39588>"
      ]
     },
     "metadata": {},
     "output_type": "display_data"
    }
   ],
   "source": [
    "# Number of cancer sites - for number of bars on plot\n",
    "num_cancer_sites = np.arange(len(cancer_sites) + len(cancer_sites_mult_names))\n",
    "\n",
    "# Trial totals - for length of bars\n",
    "trial_totals_by_site = trials.iloc[:, -23:].sum().sort_values(ascending=False).values\n",
    "\n",
    "# Names of cancer sites - for bar labels\n",
    "cancer_sites_high_to_low = trials.iloc[:, -23:].sum().sort_values(ascending=False).index\n",
    "\n",
    "# Create horizontal bar\n",
    "plt.barh(num_cancer_sites, trial_totals_by_site, align='center', alpha=0.4)\n",
    "\n",
    "# Create yticks\n",
    "plt.yticks(num_cancer_sites, cancer_sites_high_to_low)\n",
    "\n",
    "# Create xlabel\n",
    "plt.xlabel('Number of Trials')\n",
    "\n",
    "# Invert graph\n",
    "plt.gca().invert_yaxis()"
   ]
  },
  {
   "cell_type": "markdown",
   "metadata": {},
   "source": [
    "# 3. What's the distribution of sponsors in the data set?\n",
    "---"
   ]
  },
  {
   "cell_type": "markdown",
   "metadata": {},
   "source": [
    "##### a. Clean text data"
   ]
  },
  {
   "cell_type": "code",
   "execution_count": 87,
   "metadata": {
    "collapsed": true
   },
   "outputs": [],
   "source": [
    "# split pipe delimited sponsor names into a list in each cell\n",
    "s = trials['Sponsor/Collaborators'].str.split('|')"
   ]
  },
  {
   "cell_type": "code",
   "execution_count": 88,
   "metadata": {
    "collapsed": true
   },
   "outputs": [],
   "source": [
    "# The lead sponsor is the first one listed - generate new list with only lead sponsor\n",
    "lead_sponsors = [row[0] for row in s]"
   ]
  },
  {
   "cell_type": "code",
   "execution_count": 89,
   "metadata": {
    "collapsed": true
   },
   "outputs": [],
   "source": [
    "# Turn lead_sponsors list to a pandas series\n",
    "lead_sponsors_series = pd.Series(lead_sponsors)"
   ]
  },
  {
   "cell_type": "code",
   "execution_count": 90,
   "metadata": {
    "collapsed": false
   },
   "outputs": [
    {
     "data": {
      "text/plain": [
       "M.D. Anderson Cancer Center                                 1387\n",
       "National Cancer Institute (NCI)                             1263\n",
       "Memorial Sloan Kettering Cancer Center                       854\n",
       "Hoffmann-La Roche                                            605\n",
       "Novartis Pharmaceuticals                                     478\n",
       "Mayo Clinic                                                  403\n",
       "AstraZeneca                                                  400\n",
       "Pfizer                                                       320\n",
       "Dana-Farber Cancer Institute                                 300\n",
       "GlaxoSmithKline                                              299\n",
       "Massachusetts General Hospital                               299\n",
       "Washington University School of Medicine                     292\n",
       "Eli Lilly and Company                                        289\n",
       "Bristol-Myers Squibb                                         284\n",
       "University Health Network, Toronto                           273\n",
       "Sidney Kimmel Comprehensive Cancer Center                    254\n",
       "Samsung Medical Center                                       252\n",
       "Merck Sharp & Dohme Corp.                                    242\n",
       "Sun Yat-sen University                                       238\n",
       "City of Hope Medical Center                                  232\n",
       "Abramson Cancer Center of the University of Pennsylvania     226\n",
       "National Taiwan University Hospital                          226\n",
       "Stanford University                                          224\n",
       "Duke University                                              223\n",
       "Children's Oncology Group                                    217\n",
       "Bayer                                                        212\n",
       "Case Comprehensive Cancer Center                             195\n",
       "H. Lee Moffitt Cancer Center and Research Institute          194\n",
       "Sanofi                                                       193\n",
       "Assistance Publique - Hôpitaux de Paris                      193\n",
       "Celgene Corporation                                          190\n",
       "Boehringer Ingelheim                                         185\n",
       "Fudan University                                             185\n",
       "University of California, San Francisco                      184\n",
       "Fred Hutchinson Cancer Research Center                       183\n",
       "Seoul National University Hospital                           175\n",
       "Yonsei University                                            175\n",
       "Amgen                                                        162\n",
       "Genentech, Inc.                                              160\n",
       "Alliance for Clinical Trials in Oncology                     160\n",
       "Northwestern University                                      159\n",
       "Vanderbilt-Ingram Cancer Center                              158\n",
       "Roswell Park Cancer Institute                                153\n",
       "St. Jude Children's Research Hospital                        151\n",
       "Asan Medical Center                                          144\n",
       "Comprehensive Cancer Center of Wake Forest University        142\n",
       "Emory University                                             139\n",
       "University of Washington                                     137\n",
       "University of Pittsburgh                                     137\n",
       "UNC Lineberger Comprehensive Cancer Center                   131\n",
       "dtype: int64"
      ]
     },
     "execution_count": 90,
     "metadata": {},
     "output_type": "execute_result"
    }
   ],
   "source": [
    "# Get value counts\n",
    "lead_sponsors_series.value_counts().sort_values(ascending=False)[:50]"
   ]
  },
  {
   "cell_type": "markdown",
   "metadata": {},
   "source": [
    "##### b. Plot top sponsors"
   ]
  },
  {
   "cell_type": "code",
   "execution_count": 91,
   "metadata": {
    "collapsed": false
   },
   "outputs": [
    {
     "data": {
      "image/png": "[encoded data removed]",
      "text/plain": [
       "<matplotlib.figure.Figure at 0x119286b38>"
      ]
     },
     "metadata": {},
     "output_type": "display_data"
    }
   ],
   "source": [
    "# Number of cancer sites - for number of bars on plot\n",
    "num_sponsors = np.arange(20)\n",
    "\n",
    "# Trial totals - for length of bars\n",
    "trial_totals_by_sponsor = lead_sponsors_series.value_counts().sort_values(ascending=False)[:20].values\n",
    "\n",
    "# Names of cancer sites - for bar labels\n",
    "sponsor_names = lead_sponsors_series.value_counts().sort_values(ascending=False)[:20].index\n",
    "\n",
    "# Create horizontal bar\n",
    "plt.barh(num_sponsors, trial_totals_by_sponsor, align='center', alpha=0.4)\n",
    "\n",
    "# Create yticks\n",
    "plt.yticks(num_sponsors, sponsor_names)\n",
    "\n",
    "# Create xlabel\n",
    "plt.xlabel('Number of Trials')\n",
    "\n",
    "# Invert graph\n",
    "plt.gca().invert_yaxis()"
   ]
  },
  {
   "cell_type": "markdown",
   "metadata": {},
   "source": [
    "# 4. How large are cancer trials?\n",
    "---"
   ]
  },
  {
   "cell_type": "markdown",
   "metadata": {
    "collapsed": true
   },
   "source": [
    "##### a. Clean up necessary columns\n",
    "I had to convert the \"Enrollment\" column to numeric data type, drop NaNs, investigate possible outliers, and remove trials with recruitment status of \"Withdrawn\""
   ]
  },
  {
   "cell_type": "code",
   "execution_count": 92,
   "metadata": {
    "collapsed": true
   },
   "outputs": [],
   "source": [
    "# Convert to numeric\n",
    "trials['Enrollment'] = pd.to_numeric(trials.Enrollment, errors='coerce')"
   ]
  },
  {
   "cell_type": "code",
   "execution_count": 93,
   "metadata": {
    "collapsed": false
   },
   "outputs": [
    {
     "data": {
      "text/plain": [
       "419"
      ]
     },
     "execution_count": 93,
     "metadata": {},
     "output_type": "execute_result"
    }
   ],
   "source": [
    "trials.Enrollment.isnull().sum()"
   ]
  },
  {
   "cell_type": "code",
   "execution_count": 94,
   "metadata": {
    "collapsed": true
   },
   "outputs": [],
   "source": [
    "# Create a new series without the nans\n",
    "without_nulls_enrollment = trials[['NCT Number', 'Enrollment', 'Study Types', 'Recruitment']].dropna()"
   ]
  },
  {
   "cell_type": "code",
   "execution_count": 95,
   "metadata": {
    "collapsed": false
   },
   "outputs": [
    {
     "data": {
      "text/plain": [
       "99999999.0"
      ]
     },
     "execution_count": 95,
     "metadata": {},
     "output_type": "execute_result"
    }
   ],
   "source": [
    "# alright, clear outlier\n",
    "without_nulls_enrollment['Enrollment'].max()"
   ]
  },
  {
   "cell_type": "code",
   "execution_count": 96,
   "metadata": {
    "collapsed": false
   },
   "outputs": [
    {
     "data": {
      "text/plain": [
       "(173, 4)"
      ]
     },
     "execution_count": 96,
     "metadata": {},
     "output_type": "execute_result"
    }
   ],
   "source": [
    "# View all the trials with enrollment of greater than 20k\n",
    "without_nulls_enrollment[without_nulls_enrollment['Enrollment'] > 20000].shape"
   ]
  },
  {
   "cell_type": "code",
   "execution_count": 97,
   "metadata": {
    "collapsed": false
   },
   "outputs": [
    {
     "data": {
      "text/plain": [
       "Observational     37\n",
       "Interventional     9\n",
       "Name: Study Types, dtype: int64"
      ]
     },
     "execution_count": 97,
     "metadata": {},
     "output_type": "execute_result"
    }
   ],
   "source": [
    "# How many interventional trials with greater than 100k participants?\n",
    "# There are still a good number of trials with over 100k participants, so not comfortable removing outliers\n",
    "# I would need to remove outliers if I wanted to do a swarm plot\n",
    "without_nulls_enrollment[without_nulls_enrollment['Enrollment'] > 100000]['Study Types'].value_counts()"
   ]
  },
  {
   "cell_type": "code",
   "execution_count": 98,
   "metadata": {
    "collapsed": false
   },
   "outputs": [
    {
     "data": {
      "text/html": [
       "<div>\n",
       "<style scoped>\n",
       "    .dataframe tbody tr th:only-of-type {\n",
       "        vertical-align: middle;\n",
       "    }\n",
       "\n",
       "    .dataframe tbody tr th {\n",
       "        vertical-align: top;\n",
       "    }\n",
       "\n",
       "    .dataframe thead tr th {\n",
       "        text-align: left;\n",
       "    }\n",
       "\n",
       "    .dataframe thead tr:last-of-type th {\n",
       "        text-align: right;\n",
       "    }\n",
       "</style>\n",
       "<table border=\"1\" class=\"dataframe\">\n",
       "  <thead>\n",
       "    <tr>\n",
       "      <th></th>\n",
       "      <th colspan=\"2\" halign=\"left\">Enrollment</th>\n",
       "    </tr>\n",
       "    <tr>\n",
       "      <th></th>\n",
       "      <th>mean</th>\n",
       "      <th>count_nonzero</th>\n",
       "    </tr>\n",
       "    <tr>\n",
       "      <th>Recruitment</th>\n",
       "      <th></th>\n",
       "      <th></th>\n",
       "    </tr>\n",
       "  </thead>\n",
       "  <tbody>\n",
       "    <tr>\n",
       "      <th>Active, not recruiting</th>\n",
       "      <td>1011.809568</td>\n",
       "      <td>6417.0</td>\n",
       "    </tr>\n",
       "    <tr>\n",
       "      <th>Completed</th>\n",
       "      <td>3356.210996</td>\n",
       "      <td>14349.0</td>\n",
       "    </tr>\n",
       "    <tr>\n",
       "      <th>Enrolling by invitation</th>\n",
       "      <td>7005.757366</td>\n",
       "      <td>577.0</td>\n",
       "    </tr>\n",
       "    <tr>\n",
       "      <th>Not yet recruiting</th>\n",
       "      <td>474.389142</td>\n",
       "      <td>2634.0</td>\n",
       "    </tr>\n",
       "    <tr>\n",
       "      <th>Recruiting</th>\n",
       "      <td>21934.732221</td>\n",
       "      <td>14861.0</td>\n",
       "    </tr>\n",
       "    <tr>\n",
       "      <th>Suspended</th>\n",
       "      <td>144.589172</td>\n",
       "      <td>314.0</td>\n",
       "    </tr>\n",
       "    <tr>\n",
       "      <th>Terminated</th>\n",
       "      <td>63.077882</td>\n",
       "      <td>3201.0</td>\n",
       "    </tr>\n",
       "    <tr>\n",
       "      <th>Withdrawn</th>\n",
       "      <td>4.615123</td>\n",
       "      <td>44.0</td>\n",
       "    </tr>\n",
       "  </tbody>\n",
       "</table>\n",
       "</div>"
      ],
      "text/plain": [
       "                           Enrollment              \n",
       "                                 mean count_nonzero\n",
       "Recruitment                                        \n",
       "Active, not recruiting    1011.809568        6417.0\n",
       "Completed                 3356.210996       14349.0\n",
       "Enrolling by invitation   7005.757366         577.0\n",
       "Not yet recruiting         474.389142        2634.0\n",
       "Recruiting               21934.732221       14861.0\n",
       "Suspended                  144.589172         314.0\n",
       "Terminated                  63.077882        3201.0\n",
       "Withdrawn                    4.615123          44.0"
      ]
     },
     "execution_count": 98,
     "metadata": {},
     "output_type": "execute_result"
    }
   ],
   "source": [
    "# View enrollment stats based on each recruitment category\n",
    "without_nulls_enrollment.groupby('Recruitment').agg([np.mean, np.count_nonzero,])"
   ]
  },
  {
   "cell_type": "code",
   "execution_count": 99,
   "metadata": {
    "collapsed": true
   },
   "outputs": [],
   "source": [
    "# Remove the trials with recruitment status withdrawn and terminated\n",
    "without_nulls_enrollment = without_nulls_enrollment.loc[\n",
    "    (without_nulls_enrollment['Recruitment'] != 'Withdrawn') & (without_nulls_enrollment['Recruitment'] != 'Terminated')]"
   ]
  },
  {
   "cell_type": "code",
   "execution_count": 100,
   "metadata": {
    "collapsed": false
   },
   "outputs": [
    {
     "data": {
      "text/html": [
       "<div>\n",
       "<style scoped>\n",
       "    .dataframe tbody tr th:only-of-type {\n",
       "        vertical-align: middle;\n",
       "    }\n",
       "\n",
       "    .dataframe tbody tr th {\n",
       "        vertical-align: top;\n",
       "    }\n",
       "\n",
       "    .dataframe thead th {\n",
       "        text-align: right;\n",
       "    }\n",
       "</style>\n",
       "<table border=\"1\" class=\"dataframe\">\n",
       "  <thead>\n",
       "    <tr style=\"text-align: right;\">\n",
       "      <th></th>\n",
       "      <th>NCT Number</th>\n",
       "      <th>Enrollment</th>\n",
       "      <th>Study Types</th>\n",
       "      <th>Recruitment</th>\n",
       "    </tr>\n",
       "  </thead>\n",
       "  <tbody>\n",
       "    <tr>\n",
       "      <th>0</th>\n",
       "      <td>NCT01638533</td>\n",
       "      <td>132.0</td>\n",
       "      <td>Interventional</td>\n",
       "      <td>Recruiting</td>\n",
       "    </tr>\n",
       "    <tr>\n",
       "      <th>1</th>\n",
       "      <td>NCT01460134</td>\n",
       "      <td>90.0</td>\n",
       "      <td>Interventional</td>\n",
       "      <td>Active, not recruiting</td>\n",
       "    </tr>\n",
       "    <tr>\n",
       "      <th>2</th>\n",
       "      <td>NCT01660776</td>\n",
       "      <td>325.0</td>\n",
       "      <td>Observational</td>\n",
       "      <td>Recruiting</td>\n",
       "    </tr>\n",
       "    <tr>\n",
       "      <th>3</th>\n",
       "      <td>NCT00898755</td>\n",
       "      <td>500.0</td>\n",
       "      <td>Observational</td>\n",
       "      <td>Recruiting</td>\n",
       "    </tr>\n",
       "    <tr>\n",
       "      <th>5</th>\n",
       "      <td>NCT02217865</td>\n",
       "      <td>180.0</td>\n",
       "      <td>Observational</td>\n",
       "      <td>Recruiting</td>\n",
       "    </tr>\n",
       "    <tr>\n",
       "      <th>6</th>\n",
       "      <td>NCT01178736</td>\n",
       "      <td>36000.0</td>\n",
       "      <td>Observational</td>\n",
       "      <td>Not yet recruiting</td>\n",
       "    </tr>\n",
       "    <tr>\n",
       "      <th>7</th>\n",
       "      <td>NCT01154816</td>\n",
       "      <td>112.0</td>\n",
       "      <td>Interventional</td>\n",
       "      <td>Active, not recruiting</td>\n",
       "    </tr>\n",
       "    <tr>\n",
       "      <th>8</th>\n",
       "      <td>NCT01139957</td>\n",
       "      <td>1916.0</td>\n",
       "      <td>Observational</td>\n",
       "      <td>Active, not recruiting</td>\n",
       "    </tr>\n",
       "    <tr>\n",
       "      <th>9</th>\n",
       "      <td>NCT01334021</td>\n",
       "      <td>1100.0</td>\n",
       "      <td>Observational</td>\n",
       "      <td>Recruiting</td>\n",
       "    </tr>\n",
       "    <tr>\n",
       "      <th>10</th>\n",
       "      <td>NCT02559583</td>\n",
       "      <td>5443.0</td>\n",
       "      <td>Observational</td>\n",
       "      <td>Completed</td>\n",
       "    </tr>\n",
       "    <tr>\n",
       "      <th>11</th>\n",
       "      <td>NCT01914107</td>\n",
       "      <td>200.0</td>\n",
       "      <td>Interventional</td>\n",
       "      <td>Recruiting</td>\n",
       "    </tr>\n",
       "    <tr>\n",
       "      <th>12</th>\n",
       "      <td>NCT02273206</td>\n",
       "      <td>802.0</td>\n",
       "      <td>Interventional</td>\n",
       "      <td>Active, not recruiting</td>\n",
       "    </tr>\n",
       "    <tr>\n",
       "      <th>13</th>\n",
       "      <td>NCT02214134</td>\n",
       "      <td>3500.0</td>\n",
       "      <td>Observational</td>\n",
       "      <td>Recruiting</td>\n",
       "    </tr>\n",
       "    <tr>\n",
       "      <th>14</th>\n",
       "      <td>NCT01789229</td>\n",
       "      <td>10000.0</td>\n",
       "      <td>Observational</td>\n",
       "      <td>Recruiting</td>\n",
       "    </tr>\n",
       "    <tr>\n",
       "      <th>15</th>\n",
       "      <td>NCT00531284</td>\n",
       "      <td>184.0</td>\n",
       "      <td>Interventional</td>\n",
       "      <td>Active, not recruiting</td>\n",
       "    </tr>\n",
       "    <tr>\n",
       "      <th>16</th>\n",
       "      <td>NCT01470586</td>\n",
       "      <td>60.0</td>\n",
       "      <td>Interventional</td>\n",
       "      <td>Completed</td>\n",
       "    </tr>\n",
       "    <tr>\n",
       "      <th>17</th>\n",
       "      <td>NCT02352428</td>\n",
       "      <td>200.0</td>\n",
       "      <td>Interventional</td>\n",
       "      <td>Recruiting</td>\n",
       "    </tr>\n",
       "    <tr>\n",
       "      <th>19</th>\n",
       "      <td>NCT00550134</td>\n",
       "      <td>80.0</td>\n",
       "      <td>Observational</td>\n",
       "      <td>Active, not recruiting</td>\n",
       "    </tr>\n",
       "    <tr>\n",
       "      <th>20</th>\n",
       "      <td>NCT00956475</td>\n",
       "      <td>48.0</td>\n",
       "      <td>Observational</td>\n",
       "      <td>Completed</td>\n",
       "    </tr>\n",
       "    <tr>\n",
       "      <th>21</th>\n",
       "      <td>NCT00939770</td>\n",
       "      <td>122.0</td>\n",
       "      <td>Interventional</td>\n",
       "      <td>Active, not recruiting</td>\n",
       "    </tr>\n",
       "    <tr>\n",
       "      <th>22</th>\n",
       "      <td>NCT02596490</td>\n",
       "      <td>200.0</td>\n",
       "      <td>Interventional</td>\n",
       "      <td>Recruiting</td>\n",
       "    </tr>\n",
       "    <tr>\n",
       "      <th>23</th>\n",
       "      <td>NCT02016833</td>\n",
       "      <td>15.0</td>\n",
       "      <td>Observational</td>\n",
       "      <td>Completed</td>\n",
       "    </tr>\n",
       "    <tr>\n",
       "      <th>24</th>\n",
       "      <td>NCT01462903</td>\n",
       "      <td>20.0</td>\n",
       "      <td>Interventional</td>\n",
       "      <td>Recruiting</td>\n",
       "    </tr>\n",
       "    <tr>\n",
       "      <th>25</th>\n",
       "      <td>NCT01469429</td>\n",
       "      <td>140.0</td>\n",
       "      <td>Interventional</td>\n",
       "      <td>Active, not recruiting</td>\n",
       "    </tr>\n",
       "    <tr>\n",
       "      <th>26</th>\n",
       "      <td>NCT02087852</td>\n",
       "      <td>750.0</td>\n",
       "      <td>Observational</td>\n",
       "      <td>Recruiting</td>\n",
       "    </tr>\n",
       "    <tr>\n",
       "      <th>27</th>\n",
       "      <td>NCT00757614</td>\n",
       "      <td>14000.0</td>\n",
       "      <td>Observational</td>\n",
       "      <td>Recruiting</td>\n",
       "    </tr>\n",
       "    <tr>\n",
       "      <th>28</th>\n",
       "      <td>NCT02321501</td>\n",
       "      <td>66.0</td>\n",
       "      <td>Interventional</td>\n",
       "      <td>Recruiting</td>\n",
       "    </tr>\n",
       "    <tr>\n",
       "      <th>29</th>\n",
       "      <td>NCT00512551</td>\n",
       "      <td>18.0</td>\n",
       "      <td>Observational</td>\n",
       "      <td>Active, not recruiting</td>\n",
       "    </tr>\n",
       "    <tr>\n",
       "      <th>30</th>\n",
       "      <td>NCT01736072</td>\n",
       "      <td>520.0</td>\n",
       "      <td>Interventional</td>\n",
       "      <td>Active, not recruiting</td>\n",
       "    </tr>\n",
       "    <tr>\n",
       "      <th>31</th>\n",
       "      <td>NCT01440855</td>\n",
       "      <td>340.0</td>\n",
       "      <td>Interventional</td>\n",
       "      <td>Completed</td>\n",
       "    </tr>\n",
       "    <tr>\n",
       "      <th>...</th>\n",
       "      <td>...</td>\n",
       "      <td>...</td>\n",
       "      <td>...</td>\n",
       "      <td>...</td>\n",
       "    </tr>\n",
       "    <tr>\n",
       "      <th>43931</th>\n",
       "      <td>NCT00828555</td>\n",
       "      <td>3988.0</td>\n",
       "      <td>Observational</td>\n",
       "      <td>Completed</td>\n",
       "    </tr>\n",
       "    <tr>\n",
       "      <th>43932</th>\n",
       "      <td>NCT00761371</td>\n",
       "      <td>52.0</td>\n",
       "      <td>Interventional</td>\n",
       "      <td>Completed</td>\n",
       "    </tr>\n",
       "    <tr>\n",
       "      <th>43933</th>\n",
       "      <td>NCT00749294</td>\n",
       "      <td>150.0</td>\n",
       "      <td>Observational</td>\n",
       "      <td>Completed</td>\n",
       "    </tr>\n",
       "    <tr>\n",
       "      <th>43934</th>\n",
       "      <td>NCT00743392</td>\n",
       "      <td>503.0</td>\n",
       "      <td>Observational</td>\n",
       "      <td>Completed</td>\n",
       "    </tr>\n",
       "    <tr>\n",
       "      <th>43935</th>\n",
       "      <td>NCT00735462</td>\n",
       "      <td>511.0</td>\n",
       "      <td>Interventional</td>\n",
       "      <td>Completed</td>\n",
       "    </tr>\n",
       "    <tr>\n",
       "      <th>43936</th>\n",
       "      <td>NCT00701922</td>\n",
       "      <td>388.0</td>\n",
       "      <td>Observational</td>\n",
       "      <td>Completed</td>\n",
       "    </tr>\n",
       "    <tr>\n",
       "      <th>43937</th>\n",
       "      <td>NCT00674739</td>\n",
       "      <td>470.0</td>\n",
       "      <td>Interventional</td>\n",
       "      <td>Completed</td>\n",
       "    </tr>\n",
       "    <tr>\n",
       "      <th>43938</th>\n",
       "      <td>NCT00644579</td>\n",
       "      <td>120.0</td>\n",
       "      <td>Interventional</td>\n",
       "      <td>Recruiting</td>\n",
       "    </tr>\n",
       "    <tr>\n",
       "      <th>43939</th>\n",
       "      <td>NCT00575185</td>\n",
       "      <td>23.0</td>\n",
       "      <td>Interventional</td>\n",
       "      <td>Completed</td>\n",
       "    </tr>\n",
       "    <tr>\n",
       "      <th>43940</th>\n",
       "      <td>NCT00569231</td>\n",
       "      <td>18.0</td>\n",
       "      <td>Interventional</td>\n",
       "      <td>Completed</td>\n",
       "    </tr>\n",
       "    <tr>\n",
       "      <th>43941</th>\n",
       "      <td>NCT00549250</td>\n",
       "      <td>114.0</td>\n",
       "      <td>Observational</td>\n",
       "      <td>Completed</td>\n",
       "    </tr>\n",
       "    <tr>\n",
       "      <th>43943</th>\n",
       "      <td>NCT00518180</td>\n",
       "      <td>1620.0</td>\n",
       "      <td>Interventional</td>\n",
       "      <td>Completed</td>\n",
       "    </tr>\n",
       "    <tr>\n",
       "      <th>43944</th>\n",
       "      <td>NCT00501189</td>\n",
       "      <td>300.0</td>\n",
       "      <td>Observational</td>\n",
       "      <td>Enrolling by invitation</td>\n",
       "    </tr>\n",
       "    <tr>\n",
       "      <th>43945</th>\n",
       "      <td>NCT00499967</td>\n",
       "      <td>202.0</td>\n",
       "      <td>Interventional</td>\n",
       "      <td>Completed</td>\n",
       "    </tr>\n",
       "    <tr>\n",
       "      <th>43946</th>\n",
       "      <td>NCT00496626</td>\n",
       "      <td>600.0</td>\n",
       "      <td>Interventional</td>\n",
       "      <td>Completed</td>\n",
       "    </tr>\n",
       "    <tr>\n",
       "      <th>43947</th>\n",
       "      <td>NCT00461877</td>\n",
       "      <td>303.0</td>\n",
       "      <td>Observational</td>\n",
       "      <td>Completed</td>\n",
       "    </tr>\n",
       "    <tr>\n",
       "      <th>43948</th>\n",
       "      <td>NCT00449982</td>\n",
       "      <td>480.0</td>\n",
       "      <td>Interventional</td>\n",
       "      <td>Completed</td>\n",
       "    </tr>\n",
       "    <tr>\n",
       "      <th>43949</th>\n",
       "      <td>NCT00421486</td>\n",
       "      <td>500.0</td>\n",
       "      <td>Observational</td>\n",
       "      <td>Recruiting</td>\n",
       "    </tr>\n",
       "    <tr>\n",
       "      <th>43950</th>\n",
       "      <td>NCT01734122</td>\n",
       "      <td>30.0</td>\n",
       "      <td>Observational</td>\n",
       "      <td>Recruiting</td>\n",
       "    </tr>\n",
       "    <tr>\n",
       "      <th>43951</th>\n",
       "      <td>NCT02226848</td>\n",
       "      <td>30.0</td>\n",
       "      <td>Interventional</td>\n",
       "      <td>Recruiting</td>\n",
       "    </tr>\n",
       "    <tr>\n",
       "      <th>43952</th>\n",
       "      <td>NCT01175005</td>\n",
       "      <td>62.0</td>\n",
       "      <td>Observational</td>\n",
       "      <td>Completed</td>\n",
       "    </tr>\n",
       "    <tr>\n",
       "      <th>43953</th>\n",
       "      <td>NCT02709408</td>\n",
       "      <td>1025.0</td>\n",
       "      <td>Observational</td>\n",
       "      <td>Not yet recruiting</td>\n",
       "    </tr>\n",
       "    <tr>\n",
       "      <th>43954</th>\n",
       "      <td>NCT02482961</td>\n",
       "      <td>50.0</td>\n",
       "      <td>Observational</td>\n",
       "      <td>Recruiting</td>\n",
       "    </tr>\n",
       "    <tr>\n",
       "      <th>43955</th>\n",
       "      <td>NCT02365675</td>\n",
       "      <td>12.0</td>\n",
       "      <td>Interventional</td>\n",
       "      <td>Recruiting</td>\n",
       "    </tr>\n",
       "    <tr>\n",
       "      <th>43956</th>\n",
       "      <td>NCT01557322</td>\n",
       "      <td>1754.0</td>\n",
       "      <td>Observational</td>\n",
       "      <td>Completed</td>\n",
       "    </tr>\n",
       "    <tr>\n",
       "      <th>43957</th>\n",
       "      <td>NCT02623335</td>\n",
       "      <td>480.0</td>\n",
       "      <td>Interventional</td>\n",
       "      <td>Enrolling by invitation</td>\n",
       "    </tr>\n",
       "    <tr>\n",
       "      <th>43958</th>\n",
       "      <td>NCT02656225</td>\n",
       "      <td>170.0</td>\n",
       "      <td>Interventional</td>\n",
       "      <td>Recruiting</td>\n",
       "    </tr>\n",
       "    <tr>\n",
       "      <th>43959</th>\n",
       "      <td>NCT01713426</td>\n",
       "      <td>568.0</td>\n",
       "      <td>Interventional</td>\n",
       "      <td>Completed</td>\n",
       "    </tr>\n",
       "    <tr>\n",
       "      <th>43960</th>\n",
       "      <td>NCT01741441</td>\n",
       "      <td>188.0</td>\n",
       "      <td>Observational</td>\n",
       "      <td>Completed</td>\n",
       "    </tr>\n",
       "    <tr>\n",
       "      <th>43961</th>\n",
       "      <td>NCT01892514</td>\n",
       "      <td>104.0</td>\n",
       "      <td>Interventional</td>\n",
       "      <td>Recruiting</td>\n",
       "    </tr>\n",
       "  </tbody>\n",
       "</table>\n",
       "<p>39156 rows × 4 columns</p>\n",
       "</div>"
      ],
      "text/plain": [
       "        NCT Number  Enrollment     Study Types              Recruitment\n",
       "0      NCT01638533       132.0  Interventional               Recruiting\n",
       "1      NCT01460134        90.0  Interventional   Active, not recruiting\n",
       "2      NCT01660776       325.0   Observational               Recruiting\n",
       "3      NCT00898755       500.0   Observational               Recruiting\n",
       "5      NCT02217865       180.0   Observational               Recruiting\n",
       "6      NCT01178736     36000.0   Observational       Not yet recruiting\n",
       "7      NCT01154816       112.0  Interventional   Active, not recruiting\n",
       "8      NCT01139957      1916.0   Observational   Active, not recruiting\n",
       "9      NCT01334021      1100.0   Observational               Recruiting\n",
       "10     NCT02559583      5443.0   Observational                Completed\n",
       "11     NCT01914107       200.0  Interventional               Recruiting\n",
       "12     NCT02273206       802.0  Interventional   Active, not recruiting\n",
       "13     NCT02214134      3500.0   Observational               Recruiting\n",
       "14     NCT01789229     10000.0   Observational               Recruiting\n",
       "15     NCT00531284       184.0  Interventional   Active, not recruiting\n",
       "16     NCT01470586        60.0  Interventional                Completed\n",
       "17     NCT02352428       200.0  Interventional               Recruiting\n",
       "19     NCT00550134        80.0   Observational   Active, not recruiting\n",
       "20     NCT00956475        48.0   Observational                Completed\n",
       "21     NCT00939770       122.0  Interventional   Active, not recruiting\n",
       "22     NCT02596490       200.0  Interventional               Recruiting\n",
       "23     NCT02016833        15.0   Observational                Completed\n",
       "24     NCT01462903        20.0  Interventional               Recruiting\n",
       "25     NCT01469429       140.0  Interventional   Active, not recruiting\n",
       "26     NCT02087852       750.0   Observational               Recruiting\n",
       "27     NCT00757614     14000.0   Observational               Recruiting\n",
       "28     NCT02321501        66.0  Interventional               Recruiting\n",
       "29     NCT00512551        18.0   Observational   Active, not recruiting\n",
       "30     NCT01736072       520.0  Interventional   Active, not recruiting\n",
       "31     NCT01440855       340.0  Interventional                Completed\n",
       "...            ...         ...             ...                      ...\n",
       "43931  NCT00828555      3988.0   Observational                Completed\n",
       "43932  NCT00761371        52.0  Interventional                Completed\n",
       "43933  NCT00749294       150.0   Observational                Completed\n",
       "43934  NCT00743392       503.0   Observational                Completed\n",
       "43935  NCT00735462       511.0  Interventional                Completed\n",
       "43936  NCT00701922       388.0   Observational                Completed\n",
       "43937  NCT00674739       470.0  Interventional                Completed\n",
       "43938  NCT00644579       120.0  Interventional               Recruiting\n",
       "43939  NCT00575185        23.0  Interventional                Completed\n",
       "43940  NCT00569231        18.0  Interventional                Completed\n",
       "43941  NCT00549250       114.0   Observational                Completed\n",
       "43943  NCT00518180      1620.0  Interventional                Completed\n",
       "43944  NCT00501189       300.0   Observational  Enrolling by invitation\n",
       "43945  NCT00499967       202.0  Interventional                Completed\n",
       "43946  NCT00496626       600.0  Interventional                Completed\n",
       "43947  NCT00461877       303.0   Observational                Completed\n",
       "43948  NCT00449982       480.0  Interventional                Completed\n",
       "43949  NCT00421486       500.0   Observational               Recruiting\n",
       "43950  NCT01734122        30.0   Observational               Recruiting\n",
       "43951  NCT02226848        30.0  Interventional               Recruiting\n",
       "43952  NCT01175005        62.0   Observational                Completed\n",
       "43953  NCT02709408      1025.0   Observational       Not yet recruiting\n",
       "43954  NCT02482961        50.0   Observational               Recruiting\n",
       "43955  NCT02365675        12.0  Interventional               Recruiting\n",
       "43956  NCT01557322      1754.0   Observational                Completed\n",
       "43957  NCT02623335       480.0  Interventional  Enrolling by invitation\n",
       "43958  NCT02656225       170.0  Interventional               Recruiting\n",
       "43959  NCT01713426       568.0  Interventional                Completed\n",
       "43960  NCT01741441       188.0   Observational                Completed\n",
       "43961  NCT01892514       104.0  Interventional               Recruiting\n",
       "\n",
       "[39156 rows x 4 columns]"
      ]
     },
     "execution_count": 100,
     "metadata": {},
     "output_type": "execute_result"
    }
   ],
   "source": [
    "without_nulls_enrollment"
   ]
  },
  {
   "cell_type": "code",
   "execution_count": 101,
   "metadata": {
    "collapsed": true
   },
   "outputs": [],
   "source": [
    "bins = [-1, 30, 60, 100, 200, 400, 1000, 5000, 1000000000]\n",
    "group_names = ['< 30', '31-60', '61-100', '101-200', '201-400', '401-1000', '1000-5000', '>5000']\n",
    "categories = pd.cut(without_nulls_enrollment['Enrollment'], bins, labels=group_names)"
   ]
  },
  {
   "cell_type": "code",
   "execution_count": 102,
   "metadata": {
    "collapsed": true
   },
   "outputs": [],
   "source": [
    "# Add categories as column in dataframe\n",
    "without_nulls_enrollment['Category'] = categories"
   ]
  },
  {
   "cell_type": "code",
   "execution_count": 103,
   "metadata": {
    "collapsed": true
   },
   "outputs": [],
   "source": [
    "# View value counts\n",
    "enrollment_counts = without_nulls_enrollment['Category'].value_counts().sort_index(ascending=True)"
   ]
  },
  {
   "cell_type": "markdown",
   "metadata": {},
   "source": [
    "##### b. Plot trial sizes "
   ]
  },
  {
   "cell_type": "code",
   "execution_count": 104,
   "metadata": {
    "collapsed": false
   },
   "outputs": [
    {
     "data": {
      "text/plain": [
       "<matplotlib.axes._subplots.AxesSubplot at 0x11a345390>"
      ]
     },
     "execution_count": 104,
     "metadata": {},
     "output_type": "execute_result"
    },
    {
     "data": {
      "image/png": "[encoded data removed]",
      "text/plain": [
       "<matplotlib.figure.Figure at 0x119eb8160>"
      ]
     },
     "metadata": {},
     "output_type": "display_data"
    }
   ],
   "source": [
    "enrollment_counts.plot(kind='bar', title='Size of Cancer Trials', alpha=0.6, colormap='Accent', rot=20)"
   ]
  },
  {
   "cell_type": "markdown",
   "metadata": {},
   "source": [
    "##### c. Are the really big ones observational? "
   ]
  },
  {
   "cell_type": "code",
   "execution_count": 105,
   "metadata": {
    "collapsed": false
   },
   "outputs": [
    {
     "data": {
      "text/plain": [
       "Interventional    31562\n",
       "Observational      7594\n",
       "Name: Study Types, dtype: int64"
      ]
     },
     "execution_count": 105,
     "metadata": {},
     "output_type": "execute_result"
    }
   ],
   "source": [
    "# View value counts for Interventional vs. observational\n",
    "without_nulls_enrollment['Study Types'].value_counts()"
   ]
  },
  {
   "cell_type": "code",
   "execution_count": 106,
   "metadata": {
    "collapsed": true
   },
   "outputs": [],
   "source": [
    "# Create dummies for study type - this will enable a stacked bar graph\n",
    "dummies = pd.get_dummies(without_nulls_enrollment['Study Types'], prefix_sep='')"
   ]
  },
  {
   "cell_type": "code",
   "execution_count": 107,
   "metadata": {
    "collapsed": true
   },
   "outputs": [],
   "source": [
    "# Join dummies with df\n",
    "result = pd.concat([without_nulls_enrollment, dummies], axis=1)"
   ]
  },
  {
   "cell_type": "code",
   "execution_count": 108,
   "metadata": {
    "collapsed": true
   },
   "outputs": [],
   "source": [
    "# Create a groupby object that can be converted to a stacked bar graph\n",
    "enrollment_by_study_type =  result.groupby('Category').sum()[['Interventional', 'Observational']]"
   ]
  },
  {
   "cell_type": "code",
   "execution_count": 109,
   "metadata": {
    "collapsed": true
   },
   "outputs": [],
   "source": [
    "# Sort the groupby object you just created\n",
    "groupby_sorted = enrollment_by_study_type.sort_index(ascending=False)"
   ]
  },
  {
   "cell_type": "code",
   "execution_count": 110,
   "metadata": {
    "collapsed": false
   },
   "outputs": [
    {
     "data": {
      "text/plain": [
       "<matplotlib.axes._subplots.AxesSubplot at 0x121d5ecc0>"
      ]
     },
     "execution_count": 110,
     "metadata": {},
     "output_type": "execute_result"
    },
    {
     "data": {
      "image/png": "[encoded data removed]",
      "text/plain": [
       "<matplotlib.figure.Figure at 0x11a144ac8>"
      ]
     },
     "metadata": {},
     "output_type": "display_data"
    }
   ],
   "source": [
    "groupby_sorted.plot(kind='barh', stacked=True, alpha=0.6, colormap='Accent')"
   ]
  },
  {
   "cell_type": "markdown",
   "metadata": {},
   "source": [
    "As you can see above, most of the smaller trials are interventional, but as the size of the trial increases, so does the percentage of observational trials."
   ]
  },
  {
   "cell_type": "markdown",
   "metadata": {},
   "source": [
    "# 5. How many interventional vs. observational trials are there?"
   ]
  },
  {
   "cell_type": "code",
   "execution_count": 111,
   "metadata": {
    "collapsed": false
   },
   "outputs": [
    {
     "data": {
      "text/plain": [
       "Interventional     35610\n",
       "Observational       8200\n",
       "Expanded Access      152\n",
       "Name: Study Types, dtype: int64"
      ]
     },
     "execution_count": 111,
     "metadata": {},
     "output_type": "execute_result"
    }
   ],
   "source": [
    "trials['Study Types'].value_counts()"
   ]
  },
  {
   "cell_type": "code",
   "execution_count": 112,
   "metadata": {
    "collapsed": false
   },
   "outputs": [
    {
     "data": {
      "text/plain": [
       "Index(['Rank', 'NCT Number', 'Title', 'Recruitment', 'Study Results',\n",
       "       'Conditions', 'Interventions', 'Sponsor/Collaborators', 'Gender', 'Age',\n",
       "       'Phases', 'Enrollment', 'Funded Bys', 'Study Types', 'Study Designs',\n",
       "       'Other IDs', 'First Received', 'Start Date', 'Completion Date',\n",
       "       'Last Updated', 'Last Verified', 'Results First Received', 'Acronym',\n",
       "       'Primary Completion Date', 'Outcome Measures', 'URL', 'Breast', 'Lung',\n",
       "       'Colorectal', 'Prostate', 'Pancreatic', 'Thyroid', 'Ovarian',\n",
       "       'Melanoma', 'Esophageal', 'Multiple Myeloma', 'Lymphomas', 'Leukemias',\n",
       "       'Uterine', 'Bladder', 'Cervical', 'Head and Neck', 'Liver',\n",
       "       'Testicular', 'Brain', 'Kidney', 'Gastric', 'Bone', 'Soft-tissue'],\n",
       "      dtype='object')"
      ]
     },
     "execution_count": 112,
     "metadata": {},
     "output_type": "execute_result"
    }
   ],
   "source": [
    "trials.columns"
   ]
  },
  {
   "cell_type": "code",
   "execution_count": 113,
   "metadata": {
    "collapsed": false
   },
   "outputs": [
    {
     "name": "stderr",
     "output_type": "stream",
     "text": [
      "/Applications/anaconda/lib/python3.6/site-packages/seaborn/categorical.py:1460: FutureWarning: remove_na is deprecated and is a private function. Do not use.\n",
      "  stat_data = remove_na(group_data)\n"
     ]
    },
    {
     "data": {
      "image/png": "[encoded data removed]",
      "text/plain": [
       "<matplotlib.figure.Figure at 0x11a131a90>"
      ]
     },
     "metadata": {},
     "output_type": "display_data"
    }
   ],
   "source": [
    "ax = sns.countplot(x='Study Types', data=trials)"
   ]
  },
  {
   "cell_type": "markdown",
   "metadata": {},
   "source": [
    "# 6. How do interventional and observational trials differ in size?"
   ]
  },
  {
   "cell_type": "code",
   "execution_count": 114,
   "metadata": {
    "collapsed": true
   },
   "outputs": [],
   "source": [
    "# build out list of tuples with enrollment category and amount of total trials in that category\n",
    "tuples = []\n",
    "for cat in without_nulls_enrollment['Category'].unique().sort_values():\n",
    "    tuples.append((without_nulls_enrollment.loc[without_nulls_enrollment['Category'] == cat].shape[0], cat))"
   ]
  },
  {
   "cell_type": "markdown",
   "metadata": {},
   "source": [
    "Wow if you look above, I could have just done value counts. It was late..."
   ]
  },
  {
   "cell_type": "code",
   "execution_count": 115,
   "metadata": {
    "collapsed": false
   },
   "outputs": [
    {
     "data": {
      "text/plain": [
       "[(9714, '< 30'),\n",
       " (9077, '31-60'),\n",
       " (5638, '61-100'),\n",
       " (6019, '101-200'),\n",
       " (3762, '201-400'),\n",
       " (3004, '401-1000'),\n",
       " (1446, '1000-5000'),\n",
       " (496, '>5000')]"
      ]
     },
     "execution_count": 115,
     "metadata": {},
     "output_type": "execute_result"
    }
   ],
   "source": [
    "tuples"
   ]
  },
  {
   "cell_type": "code",
   "execution_count": 116,
   "metadata": {
    "collapsed": true
   },
   "outputs": [],
   "source": [
    "# build out another list of tuples, this time with the number of interventional trials per category\n",
    "int_per_cat = []\n",
    "for total, cat in tuples:\n",
    "    int_per_cat.append((without_nulls_enrollment.loc[(without_nulls_enrollment['Study Types'] == 'Interventional') & (without_nulls_enrollment['Category'] == cat)].shape[0], cat))"
   ]
  },
  {
   "cell_type": "code",
   "execution_count": 117,
   "metadata": {
    "collapsed": false
   },
   "outputs": [
    {
     "data": {
      "text/plain": [
       "[(8602, '< 30'),\n",
       " (8038, '31-60'),\n",
       " (4655, '61-100'),\n",
       " (4698, '101-200'),\n",
       " (2713, '201-400'),\n",
       " (1964, '401-1000'),\n",
       " (703, '1000-5000'),\n",
       " (189, '>5000')]"
      ]
     },
     "execution_count": 117,
     "metadata": {},
     "output_type": "execute_result"
    }
   ],
   "source": [
    "int_per_cat"
   ]
  },
  {
   "cell_type": "code",
   "execution_count": 118,
   "metadata": {
    "collapsed": true
   },
   "outputs": [],
   "source": [
    "# zip together the totals and the interventionals\n",
    "tot_vs_int = zip([i[0] for i in tuples], [i[0] for i in int_per_cat])"
   ]
  },
  {
   "cell_type": "code",
   "execution_count": 119,
   "metadata": {
    "collapsed": false
   },
   "outputs": [
    {
     "data": {
      "text/plain": [
       "<zip at 0x11d5d0608>"
      ]
     },
     "execution_count": 119,
     "metadata": {},
     "output_type": "execute_result"
    }
   ],
   "source": [
    "tot_vs_int"
   ]
  },
  {
   "cell_type": "code",
   "execution_count": 120,
   "metadata": {
    "collapsed": true
   },
   "outputs": [],
   "source": [
    "# now just get a list of the percent of interventional trials per category\n",
    "percent_int_per_cat = []\n",
    "for total, inter in tot_vs_int:\n",
    "    percent_int_per_cat.append(float(inter)/total)"
   ]
  },
  {
   "cell_type": "code",
   "execution_count": 121,
   "metadata": {
    "collapsed": false
   },
   "outputs": [
    {
     "data": {
      "text/plain": [
       "[0.885526044883673,\n",
       " 0.8855348683485733,\n",
       " 0.8256473926924441,\n",
       " 0.780528326964612,\n",
       " 0.7211589580010632,\n",
       " 0.6537949400798935,\n",
       " 0.48616874135546334,\n",
       " 0.3810483870967742]"
      ]
     },
     "execution_count": 121,
     "metadata": {},
     "output_type": "execute_result"
    }
   ],
   "source": [
    "percent_int_per_cat"
   ]
  },
  {
   "cell_type": "code",
   "execution_count": 122,
   "metadata": {
    "collapsed": false
   },
   "outputs": [
    {
     "data": {
      "text/plain": [
       "[(1112, '< 30'),\n",
       " (1039, '31-60'),\n",
       " (983, '61-100'),\n",
       " (1321, '101-200'),\n",
       " (1049, '201-400'),\n",
       " (1040, '401-1000'),\n",
       " (743, '1000-5000'),\n",
       " (307, '>5000')]"
      ]
     },
     "execution_count": 122,
     "metadata": {},
     "output_type": "execute_result"
    }
   ],
   "source": [
    "# now i need to repeat for observational\n",
    "int_per_obs = []\n",
    "for total, cat in tuples:\n",
    "    int_per_obs.append((without_nulls_enrollment.loc[(without_nulls_enrollment['Study Types'] == 'Observational') & (without_nulls_enrollment['Category'] == cat)].shape[0], cat))\n",
    "int_per_obs"
   ]
  },
  {
   "cell_type": "code",
   "execution_count": 123,
   "metadata": {
    "collapsed": false
   },
   "outputs": [
    {
     "data": {
      "text/plain": [
       "<zip at 0x11d5d0c88>"
      ]
     },
     "execution_count": 123,
     "metadata": {},
     "output_type": "execute_result"
    }
   ],
   "source": [
    "# now zip together with totals\n",
    "tot_vs_obs = zip([i[0] for i in tuples], [i[0] for i in int_per_obs])\n",
    "tot_vs_obs"
   ]
  },
  {
   "cell_type": "code",
   "execution_count": 124,
   "metadata": {
    "collapsed": false
   },
   "outputs": [
    {
     "data": {
      "text/plain": [
       "[0.11447395511632695,\n",
       " 0.11446513165142669,\n",
       " 0.17435260730755586,\n",
       " 0.21947167303538795,\n",
       " 0.2788410419989367,\n",
       " 0.34620505992010653,\n",
       " 0.5138312586445366,\n",
       " 0.6189516129032258]"
      ]
     },
     "execution_count": 124,
     "metadata": {},
     "output_type": "execute_result"
    }
   ],
   "source": [
    "# get percentages\n",
    "percent_int_per_obs = []\n",
    "for tot, obs in tot_vs_obs:\n",
    "    percent_int_per_obs.append(float(obs)/tot)\n",
    "percent_int_per_obs"
   ]
  },
  {
   "cell_type": "code",
   "execution_count": 125,
   "metadata": {
    "collapsed": true
   },
   "outputs": [],
   "source": [
    "# create df for the percent interventionals vs categories\n",
    "categories = [i[1] for i in tuples]\n",
    "int_df = pd.DataFrame({'category':categories, 'percent': percent_int_per_cat, 'study-type':'interventional'})"
   ]
  },
  {
   "cell_type": "code",
   "execution_count": 126,
   "metadata": {
    "collapsed": false
   },
   "outputs": [
    {
     "data": {
      "text/html": [
       "<div>\n",
       "<style scoped>\n",
       "    .dataframe tbody tr th:only-of-type {\n",
       "        vertical-align: middle;\n",
       "    }\n",
       "\n",
       "    .dataframe tbody tr th {\n",
       "        vertical-align: top;\n",
       "    }\n",
       "\n",
       "    .dataframe thead th {\n",
       "        text-align: right;\n",
       "    }\n",
       "</style>\n",
       "<table border=\"1\" class=\"dataframe\">\n",
       "  <thead>\n",
       "    <tr style=\"text-align: right;\">\n",
       "      <th></th>\n",
       "      <th>category</th>\n",
       "      <th>percent</th>\n",
       "      <th>study-type</th>\n",
       "    </tr>\n",
       "  </thead>\n",
       "  <tbody>\n",
       "    <tr>\n",
       "      <th>0</th>\n",
       "      <td>&lt; 30</td>\n",
       "      <td>0.885526</td>\n",
       "      <td>interventional</td>\n",
       "    </tr>\n",
       "    <tr>\n",
       "      <th>1</th>\n",
       "      <td>31-60</td>\n",
       "      <td>0.885535</td>\n",
       "      <td>interventional</td>\n",
       "    </tr>\n",
       "    <tr>\n",
       "      <th>2</th>\n",
       "      <td>61-100</td>\n",
       "      <td>0.825647</td>\n",
       "      <td>interventional</td>\n",
       "    </tr>\n",
       "    <tr>\n",
       "      <th>3</th>\n",
       "      <td>101-200</td>\n",
       "      <td>0.780528</td>\n",
       "      <td>interventional</td>\n",
       "    </tr>\n",
       "    <tr>\n",
       "      <th>4</th>\n",
       "      <td>201-400</td>\n",
       "      <td>0.721159</td>\n",
       "      <td>interventional</td>\n",
       "    </tr>\n",
       "    <tr>\n",
       "      <th>5</th>\n",
       "      <td>401-1000</td>\n",
       "      <td>0.653795</td>\n",
       "      <td>interventional</td>\n",
       "    </tr>\n",
       "    <tr>\n",
       "      <th>6</th>\n",
       "      <td>1000-5000</td>\n",
       "      <td>0.486169</td>\n",
       "      <td>interventional</td>\n",
       "    </tr>\n",
       "    <tr>\n",
       "      <th>7</th>\n",
       "      <td>&gt;5000</td>\n",
       "      <td>0.381048</td>\n",
       "      <td>interventional</td>\n",
       "    </tr>\n",
       "  </tbody>\n",
       "</table>\n",
       "</div>"
      ],
      "text/plain": [
       "    category   percent      study-type\n",
       "0       < 30  0.885526  interventional\n",
       "1      31-60  0.885535  interventional\n",
       "2     61-100  0.825647  interventional\n",
       "3    101-200  0.780528  interventional\n",
       "4    201-400  0.721159  interventional\n",
       "5   401-1000  0.653795  interventional\n",
       "6  1000-5000  0.486169  interventional\n",
       "7      >5000  0.381048  interventional"
      ]
     },
     "execution_count": 126,
     "metadata": {},
     "output_type": "execute_result"
    }
   ],
   "source": [
    "int_df"
   ]
  },
  {
   "cell_type": "code",
   "execution_count": 127,
   "metadata": {
    "collapsed": true
   },
   "outputs": [],
   "source": [
    "# create df for percent observationals vs categories\n",
    "obs_df = pd.DataFrame({'category': categories, 'percent': percent_int_per_obs, 'study-type':'observational'})"
   ]
  },
  {
   "cell_type": "code",
   "execution_count": 128,
   "metadata": {
    "collapsed": false
   },
   "outputs": [
    {
     "data": {
      "text/html": [
       "<div>\n",
       "<style scoped>\n",
       "    .dataframe tbody tr th:only-of-type {\n",
       "        vertical-align: middle;\n",
       "    }\n",
       "\n",
       "    .dataframe tbody tr th {\n",
       "        vertical-align: top;\n",
       "    }\n",
       "\n",
       "    .dataframe thead th {\n",
       "        text-align: right;\n",
       "    }\n",
       "</style>\n",
       "<table border=\"1\" class=\"dataframe\">\n",
       "  <thead>\n",
       "    <tr style=\"text-align: right;\">\n",
       "      <th></th>\n",
       "      <th>category</th>\n",
       "      <th>percent</th>\n",
       "      <th>study-type</th>\n",
       "    </tr>\n",
       "  </thead>\n",
       "  <tbody>\n",
       "    <tr>\n",
       "      <th>0</th>\n",
       "      <td>&lt; 30</td>\n",
       "      <td>0.114474</td>\n",
       "      <td>observational</td>\n",
       "    </tr>\n",
       "    <tr>\n",
       "      <th>1</th>\n",
       "      <td>31-60</td>\n",
       "      <td>0.114465</td>\n",
       "      <td>observational</td>\n",
       "    </tr>\n",
       "    <tr>\n",
       "      <th>2</th>\n",
       "      <td>61-100</td>\n",
       "      <td>0.174353</td>\n",
       "      <td>observational</td>\n",
       "    </tr>\n",
       "    <tr>\n",
       "      <th>3</th>\n",
       "      <td>101-200</td>\n",
       "      <td>0.219472</td>\n",
       "      <td>observational</td>\n",
       "    </tr>\n",
       "    <tr>\n",
       "      <th>4</th>\n",
       "      <td>201-400</td>\n",
       "      <td>0.278841</td>\n",
       "      <td>observational</td>\n",
       "    </tr>\n",
       "    <tr>\n",
       "      <th>5</th>\n",
       "      <td>401-1000</td>\n",
       "      <td>0.346205</td>\n",
       "      <td>observational</td>\n",
       "    </tr>\n",
       "    <tr>\n",
       "      <th>6</th>\n",
       "      <td>1000-5000</td>\n",
       "      <td>0.513831</td>\n",
       "      <td>observational</td>\n",
       "    </tr>\n",
       "    <tr>\n",
       "      <th>7</th>\n",
       "      <td>&gt;5000</td>\n",
       "      <td>0.618952</td>\n",
       "      <td>observational</td>\n",
       "    </tr>\n",
       "  </tbody>\n",
       "</table>\n",
       "</div>"
      ],
      "text/plain": [
       "    category   percent     study-type\n",
       "0       < 30  0.114474  observational\n",
       "1      31-60  0.114465  observational\n",
       "2     61-100  0.174353  observational\n",
       "3    101-200  0.219472  observational\n",
       "4    201-400  0.278841  observational\n",
       "5   401-1000  0.346205  observational\n",
       "6  1000-5000  0.513831  observational\n",
       "7      >5000  0.618952  observational"
      ]
     },
     "execution_count": 128,
     "metadata": {},
     "output_type": "execute_result"
    }
   ],
   "source": [
    "obs_df"
   ]
  },
  {
   "cell_type": "code",
   "execution_count": 129,
   "metadata": {
    "collapsed": true
   },
   "outputs": [],
   "source": [
    "# concat int_df and obs_df\n",
    "frames = [int_df, obs_df]\n",
    "df_for_plot = pd.concat(frames, ignore_index=True)"
   ]
  },
  {
   "cell_type": "code",
   "execution_count": 130,
   "metadata": {
    "collapsed": true
   },
   "outputs": [],
   "source": [
    "# multiply percent column by 100\n",
    "df_for_plot['percent'] = df_for_plot['percent'] * 100"
   ]
  },
  {
   "cell_type": "code",
   "execution_count": 131,
   "metadata": {
    "collapsed": false
   },
   "outputs": [
    {
     "name": "stderr",
     "output_type": "stream",
     "text": [
      "/Applications/anaconda/lib/python3.6/site-packages/seaborn/categorical.py:1508: FutureWarning: remove_na is deprecated and is a private function. Do not use.\n",
      "  stat_data = remove_na(group_data[hue_mask])\n"
     ]
    },
    {
     "data": {
      "text/plain": [
       "<matplotlib.axes._subplots.AxesSubplot at 0x119e15048>"
      ]
     },
     "execution_count": 131,
     "metadata": {},
     "output_type": "execute_result"
    },
    {
     "data": {
      "image/png": "[encoded data removed]",
      "text/plain": [
       "<matplotlib.figure.Figure at 0x11bb97908>"
      ]
     },
     "metadata": {},
     "output_type": "display_data"
    }
   ],
   "source": [
    "sns.pointplot(x='category', y='percent', hue='study-type', data=df_for_plot)"
   ]
  },
  {
   "cell_type": "code",
   "execution_count": 132,
   "metadata": {
    "collapsed": false
   },
   "outputs": [
    {
     "data": {
      "text/html": [
       "<div>\n",
       "<style scoped>\n",
       "    .dataframe tbody tr th:only-of-type {\n",
       "        vertical-align: middle;\n",
       "    }\n",
       "\n",
       "    .dataframe tbody tr th {\n",
       "        vertical-align: top;\n",
       "    }\n",
       "\n",
       "    .dataframe thead th {\n",
       "        text-align: right;\n",
       "    }\n",
       "</style>\n",
       "<table border=\"1\" class=\"dataframe\">\n",
       "  <thead>\n",
       "    <tr style=\"text-align: right;\">\n",
       "      <th></th>\n",
       "      <th>category</th>\n",
       "      <th>percent</th>\n",
       "      <th>study-type</th>\n",
       "    </tr>\n",
       "  </thead>\n",
       "  <tbody>\n",
       "    <tr>\n",
       "      <th>0</th>\n",
       "      <td>&lt; 30</td>\n",
       "      <td>88.552604</td>\n",
       "      <td>interventional</td>\n",
       "    </tr>\n",
       "    <tr>\n",
       "      <th>1</th>\n",
       "      <td>31-60</td>\n",
       "      <td>88.553487</td>\n",
       "      <td>interventional</td>\n",
       "    </tr>\n",
       "    <tr>\n",
       "      <th>2</th>\n",
       "      <td>61-100</td>\n",
       "      <td>82.564739</td>\n",
       "      <td>interventional</td>\n",
       "    </tr>\n",
       "    <tr>\n",
       "      <th>3</th>\n",
       "      <td>101-200</td>\n",
       "      <td>78.052833</td>\n",
       "      <td>interventional</td>\n",
       "    </tr>\n",
       "    <tr>\n",
       "      <th>4</th>\n",
       "      <td>201-400</td>\n",
       "      <td>72.115896</td>\n",
       "      <td>interventional</td>\n",
       "    </tr>\n",
       "    <tr>\n",
       "      <th>5</th>\n",
       "      <td>401-1000</td>\n",
       "      <td>65.379494</td>\n",
       "      <td>interventional</td>\n",
       "    </tr>\n",
       "    <tr>\n",
       "      <th>6</th>\n",
       "      <td>1000-5000</td>\n",
       "      <td>48.616874</td>\n",
       "      <td>interventional</td>\n",
       "    </tr>\n",
       "    <tr>\n",
       "      <th>7</th>\n",
       "      <td>&gt;5000</td>\n",
       "      <td>38.104839</td>\n",
       "      <td>interventional</td>\n",
       "    </tr>\n",
       "    <tr>\n",
       "      <th>8</th>\n",
       "      <td>&lt; 30</td>\n",
       "      <td>11.447396</td>\n",
       "      <td>observational</td>\n",
       "    </tr>\n",
       "    <tr>\n",
       "      <th>9</th>\n",
       "      <td>31-60</td>\n",
       "      <td>11.446513</td>\n",
       "      <td>observational</td>\n",
       "    </tr>\n",
       "    <tr>\n",
       "      <th>10</th>\n",
       "      <td>61-100</td>\n",
       "      <td>17.435261</td>\n",
       "      <td>observational</td>\n",
       "    </tr>\n",
       "    <tr>\n",
       "      <th>11</th>\n",
       "      <td>101-200</td>\n",
       "      <td>21.947167</td>\n",
       "      <td>observational</td>\n",
       "    </tr>\n",
       "    <tr>\n",
       "      <th>12</th>\n",
       "      <td>201-400</td>\n",
       "      <td>27.884104</td>\n",
       "      <td>observational</td>\n",
       "    </tr>\n",
       "    <tr>\n",
       "      <th>13</th>\n",
       "      <td>401-1000</td>\n",
       "      <td>34.620506</td>\n",
       "      <td>observational</td>\n",
       "    </tr>\n",
       "    <tr>\n",
       "      <th>14</th>\n",
       "      <td>1000-5000</td>\n",
       "      <td>51.383126</td>\n",
       "      <td>observational</td>\n",
       "    </tr>\n",
       "    <tr>\n",
       "      <th>15</th>\n",
       "      <td>&gt;5000</td>\n",
       "      <td>61.895161</td>\n",
       "      <td>observational</td>\n",
       "    </tr>\n",
       "  </tbody>\n",
       "</table>\n",
       "</div>"
      ],
      "text/plain": [
       "     category    percent      study-type\n",
       "0        < 30  88.552604  interventional\n",
       "1       31-60  88.553487  interventional\n",
       "2      61-100  82.564739  interventional\n",
       "3     101-200  78.052833  interventional\n",
       "4     201-400  72.115896  interventional\n",
       "5    401-1000  65.379494  interventional\n",
       "6   1000-5000  48.616874  interventional\n",
       "7       >5000  38.104839  interventional\n",
       "8        < 30  11.447396   observational\n",
       "9       31-60  11.446513   observational\n",
       "10     61-100  17.435261   observational\n",
       "11    101-200  21.947167   observational\n",
       "12    201-400  27.884104   observational\n",
       "13   401-1000  34.620506   observational\n",
       "14  1000-5000  51.383126   observational\n",
       "15      >5000  61.895161   observational"
      ]
     },
     "execution_count": 132,
     "metadata": {},
     "output_type": "execute_result"
    }
   ],
   "source": [
    "df_for_plot"
   ]
  },
  {
   "cell_type": "markdown",
   "metadata": {},
   "source": [
    "# 7. Left off here\n",
    "Need to repeat this hbar grouped by phase"
   ]
  },
  {
   "cell_type": "code",
   "execution_count": 133,
   "metadata": {
    "collapsed": true
   },
   "outputs": [],
   "source": [
    "# Dataframe with slice of just interventionals\n",
    "interventional = without_nulls_enrollment.loc[without_nulls_enrollment['Study Types'] == 'Interventional']\n",
    "\n",
    "# Groupby \n",
    "intervent_enrollment_counts = interventional.groupby('Category').count()['Enrollment']"
   ]
  },
  {
   "cell_type": "code",
   "execution_count": 134,
   "metadata": {
    "collapsed": true
   },
   "outputs": [],
   "source": [
    "# Dataframe with slice of just observationals\n",
    "observational = without_nulls_enrollment.loc[without_nulls_enrollment['Study Types'] == 'Observational']\n",
    "\n",
    "# Groupby\n",
    "observ_enrollment_counts = observational.groupby('Category').count()['Enrollment']"
   ]
  },
  {
   "cell_type": "code",
   "execution_count": 135,
   "metadata": {
    "collapsed": false
   },
   "outputs": [
    {
     "name": "stdout",
     "output_type": "stream",
     "text": [
      "8602\n",
      "8038\n",
      "4655\n",
      "4698\n",
      "2713\n",
      "1964\n",
      "703\n",
      "189\n"
     ]
    }
   ],
   "source": [
    "for i in intervent_enrollment_counts.values:\n",
    "    print(i)"
   ]
  },
  {
   "cell_type": "code",
   "execution_count": null,
   "metadata": {
    "collapsed": true
   },
   "outputs": [],
   "source": [
    "# try using plotly to graph this\n",
    "import plotly.plotly as py\n",
    "import plotly.graph_objs as go\n",
    "py.sign_in('mshea88', '04kbbynyqj')"
   ]
  },
  {
   "cell_type": "code",
   "execution_count": null,
   "metadata": {
    "collapsed": true
   },
   "outputs": [],
   "source": [
    "X = list(without_nulls_enrollment['Category'].unique())\n",
    "y1 = intervent_enrollment_counts\n",
    "y2 = observ_enrollment_counts\n",
    "\n",
    "df = pd.DataFrame({'Enrollment':X, 'Interventional':y1, 'Observational':y2})"
   ]
  },
  {
   "cell_type": "code",
   "execution_count": null,
   "metadata": {
    "collapsed": true
   },
   "outputs": [],
   "source": [
    "data = [go.Bar(x=df['Enrollment'], y=df['Interventional']), \n",
    "       go.Bar(x=df['Enrollment'], y=df['Observational'])]"
   ]
  },
  {
   "cell_type": "code",
   "execution_count": null,
   "metadata": {
    "collapsed": true
   },
   "outputs": [],
   "source": [
    "layout = go.Layout(barmode='stack', title='Trial Enrollment')\n",
    "fig = go.Figure(data=data, layout=layout)\n",
    "url = py.plot(data, filename='enrollment-by-recruitment-type')"
   ]
  },
  {
   "cell_type": "code",
   "execution_count": null,
   "metadata": {
    "collapsed": true
   },
   "outputs": [],
   "source": [
    "# stipplot unfortunately doesn't work with outliers\n",
    "# sns.stripplot(x=\"Study Types\", y=\"Enrollment\", data=without_nulls_enrollment, jitter=True)"
   ]
  },
  {
   "cell_type": "markdown",
   "metadata": {},
   "source": [
    "#### Age"
   ]
  },
  {
   "cell_type": "code",
   "execution_count": null,
   "metadata": {
    "collapsed": true
   },
   "outputs": [],
   "source": [
    "import re"
   ]
  },
  {
   "cell_type": "code",
   "execution_count": null,
   "metadata": {
    "collapsed": false
   },
   "outputs": [],
   "source": [
    "trials.ix[11, 'Age']"
   ]
  },
  {
   "cell_type": "code",
   "execution_count": null,
   "metadata": {
    "collapsed": true
   },
   "outputs": [],
   "source": [
    "# left off trying to split age groups up, got tripped up by adult and adult, senior. maybe\n",
    "# consider putting all adults and adult, seniors in a list then parsing out adult, seniors\n",
    "\n",
    "adult_senior = 0\n",
    "adult = 0\n",
    "child = 0\n",
    "senior = 0\n",
    "child_adult_senior = 0\n",
    "child_adult = 0\n",
    "\n",
    "for row in trials.Age:\n",
    "    if '(Adult, Senior)' in row:\n",
    "        adult_senior += 1\n",
    "    elif '(Adult)' in row:\n",
    "        adult += 1\n",
    "    elif 'Child, Adult, Senior' in row:\n",
    "        child_adult_senior += 1\n",
    "    elif 'Child, Adult' in row:\n",
    "        child_adult += 1\n",
    "    elif \"(Child)\" in row:\n",
    "        child += 1\n",
    "    elif \"(Senior)\" in row:\n",
    "        senior += 1"
   ]
  },
  {
   "cell_type": "code",
   "execution_count": null,
   "metadata": {
    "collapsed": false
   },
   "outputs": [],
   "source": [
    "print \"Senior %d\" % senior\n",
    "print \"Adult/Senior %d\" % adult_senior\n",
    "print \"Adult %d\" % adult\n",
    "print \"Child/Adult/Senior %d\" % child_adult_senior\n",
    "print \"Child/Adult %d\" % child_adult\n",
    "print \"Child %d\" % child"
   ]
  },
  {
   "cell_type": "markdown",
   "metadata": {
    "collapsed": true
   },
   "source": [
    "#### Gender"
   ]
  },
  {
   "cell_type": "code",
   "execution_count": null,
   "metadata": {
    "collapsed": false
   },
   "outputs": [],
   "source": [
    "trials.Gender.value_counts()"
   ]
  },
  {
   "cell_type": "markdown",
   "metadata": {},
   "source": [
    "### Convert date columns to proper format\n",
    "First Recieved, Start Date, Completion Date, Results First Received all need to be converted to datetime"
   ]
  },
  {
   "cell_type": "code",
   "execution_count": null,
   "metadata": {
    "collapsed": true
   },
   "outputs": [],
   "source": [
    "# Convert first received to datetime\n",
    "trials['First Received'] = pd.to_datetime(trials['First Received'], infer_datetime_format = True)\n",
    "# trials['Start Date'] = pd.to_datetime(trials['Start Date'], errors='coerce')\n",
    "# trials['Completion Date'] = pd.to_datetime(trials['Completion Date'], errors='coerce')\n",
    "# trials['Results First Received'] = pd.to_datetime(trials['Results First Received'], errors='coerce')\n",
    "# trials['Primary Completion Date'] = pd.to_datetime(trials['Primary Completion Date'], errors='coerce')"
   ]
  },
  {
   "cell_type": "markdown",
   "metadata": {},
   "source": [
    "### Trends over time visualizations\n",
    "#### View phase of trials over time"
   ]
  },
  {
   "cell_type": "code",
   "execution_count": null,
   "metadata": {
    "collapsed": true
   },
   "outputs": [],
   "source": [
    "# Create new df object with date of First Received as index\n",
    "over_time = trials[['Phases']].set_index(trials['First Received'])\n",
    "\n",
    "# Drop NaNs (there are a considerable number)\n",
    "over_time.dropna(axis=0, inplace=True)\n",
    "\n",
    "# Limit to before 2016\n",
    "over_time = over_time[over_time.index < '20160101']\n",
    "\n",
    "# Create columns for each phase\n",
    "over_time_dummies = pd.get_dummies(over_time, prefix='', prefix_sep='')\n",
    "\n",
    "\n",
    "\n",
    "# # Plot phases over time\n",
    "# from matplotlib.pyplot import colormaps\n",
    "# over_time_dummies.resample('A').sum().plot(colormap='Set1', figsize=(10,7))\n",
    "\n",
    "# # List of legend values\n",
    "# legend_vals = ['Phase 2', 'Phase 1', 'Phase 3', 'Phase 1|Phase 2', 'Phase 4', 'Phase 0', 'Phase 2|Phase 3']\n",
    "\n",
    "# for rank, column in enumerate(legend_vals):   \n",
    "#     # Add a text label to the right end of every line. Most of the code below  \n",
    "#     # is adding specific offsets y position because some labels overlapped.  \n",
    "#     y_pos = over_time_dummies[column].values[-1] - 0.5  \n",
    "#     if column == \"Phase 2\":  \n",
    "#         y_pos += 0.5  \n",
    "#     elif column == \"Phase 1\":  \n",
    "#         y_pos -= 0.5  \n",
    "#     elif column == \"Phase 3\":  \n",
    "#         y_pos += 0.75  \n",
    "#     elif column == \"Phase 1|Phase2\":  \n",
    "#         y_pos -= 0.25  \n",
    "#     elif column == \"Phase 4\":  \n",
    "#         y_pos += 1.25  \n",
    "#     elif column == \"Phase 0\":  \n",
    "#         y_pos += 0.25  \n",
    "#     elif column == \"Phase 2|Phase 3\":  \n",
    "#         y_pos -= 0.75  \n",
    "\n",
    "    # Again, make sure that all labels are large enough to be easily read  \n",
    "    # by the viewer.  \n",
    "#     plt.text(2011.5, y_pos, column, fontsize=14)"
   ]
  },
  {
   "cell_type": "code",
   "execution_count": null,
   "metadata": {
    "collapsed": true
   },
   "outputs": [],
   "source": [
    "resampled = over_time_dummies.resample('A').sum()"
   ]
  },
  {
   "cell_type": "code",
   "execution_count": null,
   "metadata": {
    "collapsed": true
   },
   "outputs": [],
   "source": [
    "# resampled.to_csv('phase_over_time', encoding ='utf-8')"
   ]
  },
  {
   "cell_type": "code",
   "execution_count": null,
   "metadata": {
    "collapsed": true
   },
   "outputs": [],
   "source": [
    "# These are the \"Tableau 20\" colors as RGB.    \n",
    "tableau20 = [(31, 119, 180), (174, 199, 232), (255, 127, 14), (255, 187, 120),    \n",
    "             (44, 160, 44), (152, 223, 138), (214, 39, 40)]    \n",
    "  \n",
    "# Scale the RGB values to the [0, 1] range, which is the format matplotlib accepts.    \n",
    "for i in range(len(tableau20)):    \n",
    "    r, g, b = tableau20[i]    \n",
    "    tableau20[i] = (r / 255., g / 255., b / 255.)  "
   ]
  },
  {
   "cell_type": "code",
   "execution_count": null,
   "metadata": {
    "collapsed": false
   },
   "outputs": [],
   "source": [
    "# You typically want your plot to be ~1.33x wider than tall. This plot is a rare    \n",
    "# exception because of the number of lines being plotted on it.    \n",
    "# Common sizes: (10, 7.5) and (12, 9)    \n",
    "plt.figure(figsize=(12, 14))    \n",
    "  \n",
    "# Remove the plot frame lines. They are unnecessary chartjunk.    \n",
    "ax = plt.subplot(111)    \n",
    "ax.spines[\"top\"].set_visible(False)    \n",
    "ax.spines[\"bottom\"].set_visible(False)    \n",
    "ax.spines[\"right\"].set_visible(False)    \n",
    "ax.spines[\"left\"].set_visible(False)    \n",
    "  \n",
    "# Ensure that the axis ticks only show up on the bottom and left of the plot.    \n",
    "# Ticks on the right and top of the plot are generally unnecessary chartjunk.    \n",
    "ax.get_xaxis().tick_bottom()    \n",
    "ax.get_yaxis().tick_left()    \n",
    "  \n",
    "# Limit the range of the plot to only where the data is.    \n",
    "# Avoid unnecessary whitespace.    \n",
    "plt.ylim(0, 400)    \n",
    "plt.xlim(2007, 2016)    \n",
    "  \n",
    "# Make sure your axis ticks are large enough to be easily read.    \n",
    "# You don't want your viewers squinting to read your plot.    \n",
    "plt.yticks(range(0, 400, 100), [str(x) for x in range(0, 400, 100)], fontsize=14)    \n",
    "plt.xticks(fontsize=14)    \n",
    "  \n",
    "# Provide tick lines across the plot to help your viewers trace along    \n",
    "# the axis ticks. Make sure that the lines are light and small so they    \n",
    "# don't obscure the primary data lines.    \n",
    "for y in range(10, 400, 100):    \n",
    "    plt.plot(range(2007, 2016), [y] * len(range(2007, 2016)), \"--\", lw=0.5, color=\"black\", alpha=0.3)    \n",
    "\n",
    "# Remove the tick marks; they are unnecessary with the tick lines we just plotted.    \n",
    "plt.tick_params(axis=\"both\", which=\"both\", bottom=\"off\", top=\"off\",    \n",
    "                labelbottom=\"on\", left=\"off\", right=\"off\", labelleft=\"on\")    \n",
    "  \n",
    "# Now that the plot is prepared, it's time to actually plot the data!    \n",
    "# Note that I plotted the majors in order of the highest % in the final year.    \n",
    "# List of legend values\n",
    "legend_vals = ['Phase 2', 'Phase 1', 'Phase 3', 'Phase 1|Phase 2', 'Phase 4', 'Phase 0', 'Phase 2|Phase 3']\n",
    "\n",
    "for rank, column in enumerate(legend_vals):      \n",
    "    # Plot each line separately with its own color, using the Tableau 20    \n",
    "    # color set in order.    \n",
    "    plt.plot(resampled.index.year,    \n",
    "            resampled[column].values,    \n",
    "            lw=2.5, color=tableau20[rank]) \n",
    "    # Add a text label to the right end of every line. Most of the code below  \n",
    "    # is adding specific offsets y position because some labels overlapped.  \n",
    "    y_pos = over_time_dummies[column].values[-1] - 0.5  \n",
    "    if column == \"Phase 2\":  \n",
    "        y_pos += 0.5  \n",
    "    elif column == \"Phase 1\":  \n",
    "        y_pos -= 0.5  \n",
    "    elif column == \"Phase 3\":  \n",
    "        y_pos += 0.75  \n",
    "    elif column == \"Phase 1|Phase2\":  \n",
    "        y_pos -= 0.25  \n",
    "    elif column == \"Phase 4\":  \n",
    "        y_pos += 1.25  \n",
    "    elif column == \"Phase 0\":  \n",
    "        y_pos += 0.25  \n",
    "    elif column == \"Phase 2|Phase 3\":  \n",
    "        y_pos -= 0.75   \n",
    "        \n",
    "    # Again, make sure that all labels are large enough to be easily read    \n",
    "    # by the viewer.    \n",
    "    plt.text(2011.5, y_pos, column, fontsize=14, color=tableau20[rank])    \n",
    "\n",
    "# matplotlib's title() call centers the title on the plot, but not the graph,    \n",
    "# so I used the text() call to customize where the title goes.    \n",
    "  \n",
    "# Make the title big enough so it spans the entire plot, but don't make it    \n",
    "# so big that it requires two lines to show.    \n",
    "  \n",
    "# Note that if the title is descriptive enough, it is unnecessary to include    \n",
    "# axis labels; they are self-evident, in this plot's case.    \n",
    "plt.text(1995, 93, \"Percentage of Bachelor's degrees conferred to women in the U.S.A.\"    \n",
    "       \", by major (1970-2012)\", fontsize=17, ha=\"center\")    \n",
    "  \n",
    "# Always include your data source(s) and copyright notice! And for your    \n",
    "# data sources, tell your viewers exactly where the data came from,    \n",
    "# preferably with a direct link to the data. Just telling your viewers    \n",
    "# that you used data from the \"U.S. Census Bureau\" is completely useless:    \n",
    "# the U.S. Census Bureau provides all kinds of data, so how are your    \n",
    "# viewers supposed to know which data set you used?    \n",
    "plt.text(1966, -8, \"Data source: nces.ed.gov/programs/digest/2013menu_tables.asp\"    \n",
    "       \"\\nAuthor: Randy Olson (randalolson.com / @randal_olson)\"    \n",
    "       \"\\nNote: Some majors are missing because the historical data \"    \n",
    "       \"is not available for them\", fontsize=10)    "
   ]
  },
  {
   "cell_type": "markdown",
   "metadata": {},
   "source": [
    "### 8 Clean Text Data\n",
    "#### Sponsor/Collaborators column\n",
    "Split cells with multiple sponsors, then create a new df with a column for each sponsor. Then join with original dataframe."
   ]
  },
  {
   "cell_type": "code",
   "execution_count": null,
   "metadata": {
    "collapsed": true
   },
   "outputs": [],
   "source": [
    "# split pipe delimited sponsor names into a list in each cell\n",
    "s = trials['Sponsor/Collaborators'].str.split('|')"
   ]
  },
  {
   "cell_type": "code",
   "execution_count": null,
   "metadata": {
    "collapsed": true
   },
   "outputs": [],
   "source": [
    "# The lead sponsor is the first one listed - generate new list with only lead sponsor\n",
    "lead_sponsors = [row[0] for row in s]"
   ]
  },
  {
   "cell_type": "code",
   "execution_count": null,
   "metadata": {
    "collapsed": true
   },
   "outputs": [],
   "source": [
    "# Turn lead_sponsors list to a pandas series\n",
    "lead_sponsors_series = pd.Series(lead_sponsors)"
   ]
  },
  {
   "cell_type": "code",
   "execution_count": null,
   "metadata": {
    "collapsed": false
   },
   "outputs": [],
   "source": [
    "# Get value counts\n",
    "lead_sponsors_series.value_counts().sort_values(ascending=False)[:50]"
   ]
  },
  {
   "cell_type": "code",
   "execution_count": null,
   "metadata": {
    "collapsed": false
   },
   "outputs": [],
   "source": [
    "lead_sponsors[:100]"
   ]
  },
  {
   "cell_type": "code",
   "execution_count": null,
   "metadata": {
    "collapsed": true
   },
   "outputs": [],
   "source": [
    "# build out data structure to be converted to dataframe - essentially dummy columns for each sponsor\n",
    "random_list = []\n",
    "for row in s:\n",
    "    sponsors_dict = {}\n",
    "    for item in row:\n",
    "        sponsors_dict[item] = 1\n",
    "    random_list.append(sponsors_dict)"
   ]
  },
  {
   "cell_type": "code",
   "execution_count": null,
   "metadata": {
    "collapsed": true
   },
   "outputs": [],
   "source": [
    "# create dataframe\n",
    "sponsors_df = pd.DataFrame(random_list)"
   ]
  },
  {
   "cell_type": "code",
   "execution_count": null,
   "metadata": {
    "collapsed": false
   },
   "outputs": [],
   "source": [
    "# over 10k columns... remove some? no, let's keep it as is for now\n",
    "sponsors_df.shape"
   ]
  },
  {
   "cell_type": "code",
   "execution_count": null,
   "metadata": {
    "collapsed": false
   },
   "outputs": [],
   "source": [
    "sponsors_df.sum().sort_values(ascending=False)"
   ]
  },
  {
   "cell_type": "code",
   "execution_count": null,
   "metadata": {
    "collapsed": true
   },
   "outputs": [],
   "source": [
    "# join sponsors_df with trials\n",
    "# result = pd.concat([trials, sponsors_df], axis=1)"
   ]
  },
  {
   "cell_type": "markdown",
   "metadata": {},
   "source": [
    "#### Funded Bys column\n",
    "Split cells with multiple sponsors, then create a new df with a column for each sponsor. Then join with original dataframe."
   ]
  },
  {
   "cell_type": "code",
   "execution_count": null,
   "metadata": {
    "collapsed": true
   },
   "outputs": [],
   "source": [
    "# Split cells with multiple values\n",
    "t = trials['Funded Bys'].str.split('|')"
   ]
  },
  {
   "cell_type": "code",
   "execution_count": null,
   "metadata": {
    "collapsed": true
   },
   "outputs": [],
   "source": [
    "# Build out data structure (list of dictionaries) that can be converted to a dataframe \n",
    "# with a column for each funder\n",
    "funded_by_list = []\n",
    "for row in t:\n",
    "    temp_dict = {}\n",
    "    for z in row:\n",
    "        temp_dict[z]=1\n",
    "    funded_by_list.append(temp_dict)"
   ]
  },
  {
   "cell_type": "code",
   "execution_count": null,
   "metadata": {
    "collapsed": true
   },
   "outputs": [],
   "source": [
    "# Convert to dataframe\n",
    "funders_df = pd.DataFrame(funded_by_list)"
   ]
  },
  {
   "cell_type": "code",
   "execution_count": null,
   "metadata": {
    "collapsed": true
   },
   "outputs": [],
   "source": [
    "# Join with result dataframe\n",
    "result = pd.concat([trials, funders_df], axis=1)"
   ]
  },
  {
   "cell_type": "markdown",
   "metadata": {},
   "source": [
    "#### View funded bys over time"
   ]
  },
  {
   "cell_type": "code",
   "execution_count": null,
   "metadata": {
    "collapsed": true
   },
   "outputs": [],
   "source": [
    "# convert 'First Received' field to datetime\n",
    "result['First Received'] = pd.to_datetime(result['First Received'], infer_datetime_format = True)"
   ]
  },
  {
   "cell_type": "code",
   "execution_count": null,
   "metadata": {
    "collapsed": false
   },
   "outputs": [],
   "source": [
    "# Create new df object with columns for each of the funded by columns and index date first received\n",
    "funded_bys = result.iloc[:, -4:].set_index(result['First Received'])\n",
    "\n",
    "# Plot this data, removing 2016 data\n",
    "funded_bys['01/01/2007': '12/31/2015'].resample('A').sum().plot(colormap='Set1', figsize=(10,7))"
   ]
  },
  {
   "cell_type": "markdown",
   "metadata": {},
   "source": [
    "### Time between study start and completion; Time between study start and results recevied"
   ]
  },
  {
   "cell_type": "code",
   "execution_count": null,
   "metadata": {
    "collapsed": true
   },
   "outputs": [],
   "source": [
    "# Create slice with columns of interest\n",
    "duration = second_result[['NCT Number', 'Conditions', 'Gender', 'Age', 'Phases', 'Enrollment', 'Funded Bys', 'Study Types',\n",
    "                         'First Received', 'Primary Completion Date']]"
   ]
  },
  {
   "cell_type": "code",
   "execution_count": null,
   "metadata": {
    "collapsed": true
   },
   "outputs": [],
   "source": [
    "# Further slice to only include studies with primary completion date on or before present\n",
    "duration = duration[duration['Primary Completion Date'] < '2016-08-27']"
   ]
  },
  {
   "cell_type": "code",
   "execution_count": null,
   "metadata": {
    "collapsed": true
   },
   "outputs": [],
   "source": [
    "# Convert enrollment to int\n",
    "duration.Enrollment = pd.to_numeric(duration.Enrollment, errors='coerce')"
   ]
  },
  {
   "cell_type": "code",
   "execution_count": null,
   "metadata": {
    "collapsed": true
   },
   "outputs": [],
   "source": [
    "# bucket enrollment\n",
    "bins = [0,50,100,200,300,500,1000,50000]\n",
    "bucket_names = ['<50', '<100', '<200', '<300', '<500', '<1000', '>1000']\n",
    "\n",
    "duration['enroll_buckets'] = pd.cut(duration.Enrollment, bins, labels=bucket_names)"
   ]
  },
  {
   "cell_type": "code",
   "execution_count": null,
   "metadata": {
    "collapsed": false
   },
   "outputs": [],
   "source": [
    "# Group by enrollment\n",
    "duration.groupby('enroll_buckets').mean()"
   ]
  },
  {
   "cell_type": "code",
   "execution_count": null,
   "metadata": {
    "collapsed": false
   },
   "outputs": [],
   "source": [
    "# Check for any nulls\n",
    "duration.isnull().sum()"
   ]
  },
  {
   "cell_type": "code",
   "execution_count": null,
   "metadata": {
    "collapsed": true
   },
   "outputs": [],
   "source": [
    "duration['Duration'] = duration['Primary Completion Date'] - duration['First Received']"
   ]
  },
  {
   "cell_type": "code",
   "execution_count": null,
   "metadata": {
    "collapsed": true
   },
   "outputs": [],
   "source": [
    "duration['Duration_int'] = duration.Duration.dt.days"
   ]
  },
  {
   "cell_type": "code",
   "execution_count": null,
   "metadata": {
    "collapsed": false
   },
   "outputs": [],
   "source": [
    "duration.groupby('Phases').mean()"
   ]
  },
  {
   "cell_type": "code",
   "execution_count": null,
   "metadata": {
    "collapsed": false
   },
   "outputs": [],
   "source": [
    "duration.groupby('Funded Bys').mean().sort_values(by='Duration_int')"
   ]
  },
  {
   "cell_type": "code",
   "execution_count": null,
   "metadata": {
    "collapsed": false
   },
   "outputs": [],
   "source": [
    "duration[duration.Duration_int < 0]"
   ]
  },
  {
   "cell_type": "code",
   "execution_count": null,
   "metadata": {
    "collapsed": false
   },
   "outputs": [],
   "source": [
    "# check nulls of First Received and Primary Completion Date\n",
    "print second_result['First Received'].isnull().sum()\n",
    "print second_result['Primary Completion Date'].isnull().sum()"
   ]
  },
  {
   "cell_type": "code",
   "execution_count": null,
   "metadata": {
    "collapsed": false
   },
   "outputs": [],
   "source": [
    "second_result['Primary Completion Date'] - second_result['First Received']"
   ]
  },
  {
   "cell_type": "code",
   "execution_count": null,
   "metadata": {
    "collapsed": false
   },
   "outputs": [],
   "source": [
    "second_result.iloc[1,:]"
   ]
  },
  {
   "cell_type": "code",
   "execution_count": null,
   "metadata": {
    "collapsed": false
   },
   "outputs": [],
   "source": [
    "second_result.Recruitment.value_counts()"
   ]
  },
  {
   "cell_type": "code",
   "execution_count": null,
   "metadata": {
    "collapsed": false
   },
   "outputs": [],
   "source": [
    "trials.columns"
   ]
  },
  {
   "cell_type": "code",
   "execution_count": null,
   "metadata": {
    "collapsed": false
   },
   "outputs": [],
   "source": [
    "# some value counts\n",
    "print trials.Recruitment.value_counts(), '\\n'\n",
    "print trials['Study Results'].value_counts(), '\\n'\n",
    "print trials.Gender.value_counts(), '\\n'\n",
    "print trials.Phases.value_counts(), '\\n'\n",
    "print trials['Funded Bys'].value_counts(), '\\n'\n",
    "print trials['Study Types'].value_counts(), '\\n'\n",
    "print trials['Study Results'].value_counts()"
   ]
  },
  {
   "cell_type": "code",
   "execution_count": null,
   "metadata": {
    "collapsed": false
   },
   "outputs": [],
   "source": [
    "# how many unique conditions, interventions, and sponsors are listed?\n",
    "print len(trials.Conditions.unique())\n",
    "print len(trials.Interventions.unique())\n",
    "print len(trials['Sponsor/Collaborators'].unique())\n",
    "print len(trials.Age.unique())"
   ]
  },
  {
   "cell_type": "code",
   "execution_count": null,
   "metadata": {
    "collapsed": false
   },
   "outputs": [],
   "source": [
    "# View nulls\n",
    "pd.isnull(trials).sum()"
   ]
  },
  {
   "cell_type": "code",
   "execution_count": null,
   "metadata": {
    "collapsed": true
   },
   "outputs": [],
   "source": [
    "# trials.set_index(trials['First Received'], inplace=True)\n",
    "\n",
    "# plot trials over time - wonder what caused massive btwn 2012 and 2015?\n",
    "# trials['NCT Number'].resample('A').count().plot()\n",
    "\n",
    "# plot the count of trials per year that have results over time\n",
    "# trials[trials['Study Results'] == 'Has Results']['NCT Number'].resample('A').count().plot()"
   ]
  },
  {
   "cell_type": "code",
   "execution_count": null,
   "metadata": {
    "collapsed": true
   },
   "outputs": [],
   "source": []
  }
 ],
 "metadata": {
  "kernelspec": {
   "display_name": "Python 3",
   "language": "python",
   "name": "python3"
  },
  "language_info": {
   "codemirror_mode": {
    "name": "ipython",
    "version": 3
   },
   "file_extension": ".py",
   "mimetype": "text/x-python",
   "name": "python",
   "nbconvert_exporter": "python",
   "pygments_lexer": "ipython3",
   "version": "3.6.0"
  }
 },
 "nbformat": 4,
 "nbformat_minor": 1
}
